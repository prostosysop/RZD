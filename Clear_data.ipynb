{
  "cells": [
    {
      "cell_type": "code",
      "execution_count": 96,
      "metadata": {
        "id": "lQVc7SuRv1nC"
      },
      "outputs": [],
      "source": [
        "import pandas as pd\n",
        "from tqdm.notebook import tqdm\n",
        "import numpy as np\n",
        "import matplotlib.pyplot as plt\n",
        "import tensorflow as tf\n",
        "from tensorflow import keras\n",
        "import sklearn\n",
        "from sklearn.cluster import KMeans\n",
        "from sklearn.preprocessing import MinMaxScaler,StandardScaler\n",
        "\n",
        "\n",
        "import networkx as nx\n",
        "from matplotlib import cm\n",
        "import graphviz\n",
        "import math"
      ]
    },
    {
      "cell_type": "code",
      "source": [
        "from google.colab import drive\n",
        "drive.mount('/content/drive')"
      ],
      "metadata": {
        "colab": {
          "base_uri": "https://localhost:8080/"
        },
        "id": "LV8yuFK9v5cl",
        "outputId": "1aa8d896-5e26-4a04-ae7e-147d063467cf"
      },
      "execution_count": 31,
      "outputs": [
        {
          "output_type": "stream",
          "name": "stdout",
          "text": [
            "Drive already mounted at /content/drive; to attempt to forcibly remount, call drive.mount(\"/content/drive\", force_remount=True).\n"
          ]
        }
      ]
    },
    {
      "cell_type": "code",
      "execution_count": 4,
      "metadata": {
        "id": "LhQbjz4xv1nI"
      },
      "outputs": [],
      "source": [
        "data = pd.read_csv('/content/drive/MyDrive/ColabNotebooks/Hakaton/statistics-07-20.csv', sep = ';')"
      ]
    },
    {
      "cell_type": "markdown",
      "metadata": {
        "id": "2TiZpq0Jv1nJ"
      },
      "source": [
        "# Анализ данных"
      ]
    },
    {
      "cell_type": "code",
      "execution_count": 72,
      "metadata": {
        "colab": {
          "base_uri": "https://localhost:8080/",
          "height": 386
        },
        "id": "IS3uQcEBv1nM",
        "outputId": "b3157d69-5faf-4fdf-a017-8f18ded0252e"
      },
      "outputs": [
        {
          "output_type": "execute_result",
          "data": {
            "text/plain": [
              "   index_train  length  car_number  destination_esr   adm  danger      gruz  \\\n",
              "0          NaN     NaN    62827035         984700.0   NaN     NaN       NaN   \n",
              "1          NaN     1.0    62827035         862201.0  20.0     NaN  421034.0   \n",
              "2          NaN     NaN    62827316         863007.0   NaN     NaN       NaN   \n",
              "3          NaN     NaN    62827381         862108.0   NaN     NaN       NaN   \n",
              "4          NaN     1.0    62845730         887904.0  20.0     NaN  421034.0   \n",
              "\n",
              "   loaded  operation_car      operation_date  ...  operation_st_id  \\\n",
              "0     2.0           81.0 2020-07-16 03:40:00  ...     2.000039e+09   \n",
              "1     NaN           18.0 2020-07-16 14:10:00  ...     2.002026e+09   \n",
              "2     2.0           80.0 2020-07-16 14:50:00  ...     2.001933e+09   \n",
              "3     2.0           80.0 2020-07-16 14:16:00  ...     2.001931e+09   \n",
              "4     NaN           19.0 2020-07-16 15:15:00  ...     2.000039e+09   \n",
              "\n",
              "   operation_train    receiver  rodvag  rod_train      sender  \\\n",
              "0              NaN         NaN     NaN        NaN         NaN   \n",
              "1              NaN  93149858.0    60.0        NaN  68398528.0   \n",
              "2              NaN         NaN     NaN        NaN         NaN   \n",
              "3              NaN         NaN     NaN        NaN         NaN   \n",
              "4              NaN  81195103.0    60.0        NaN  52682351.0   \n",
              "\n",
              "   ssp_station_esr  ssp_station_id  tare_weight  weight_brutto  \n",
              "0              NaN             NaN          NaN            NaN  \n",
              "1              NaN             NaN        249.0            NaN  \n",
              "2              NaN             NaN          NaN            NaN  \n",
              "3              NaN             NaN          NaN            NaN  \n",
              "4              NaN             NaN        248.0            NaN  \n",
              "\n",
              "[5 rows x 21 columns]"
            ],
            "text/html": [
              "\n",
              "  <div id=\"df-b9ecfae8-9f3e-4059-a6e5-d45fd5cbf978\">\n",
              "    <div class=\"colab-df-container\">\n",
              "      <div>\n",
              "<style scoped>\n",
              "    .dataframe tbody tr th:only-of-type {\n",
              "        vertical-align: middle;\n",
              "    }\n",
              "\n",
              "    .dataframe tbody tr th {\n",
              "        vertical-align: top;\n",
              "    }\n",
              "\n",
              "    .dataframe thead th {\n",
              "        text-align: right;\n",
              "    }\n",
              "</style>\n",
              "<table border=\"1\" class=\"dataframe\">\n",
              "  <thead>\n",
              "    <tr style=\"text-align: right;\">\n",
              "      <th></th>\n",
              "      <th>index_train</th>\n",
              "      <th>length</th>\n",
              "      <th>car_number</th>\n",
              "      <th>destination_esr</th>\n",
              "      <th>adm</th>\n",
              "      <th>danger</th>\n",
              "      <th>gruz</th>\n",
              "      <th>loaded</th>\n",
              "      <th>operation_car</th>\n",
              "      <th>operation_date</th>\n",
              "      <th>...</th>\n",
              "      <th>operation_st_id</th>\n",
              "      <th>operation_train</th>\n",
              "      <th>receiver</th>\n",
              "      <th>rodvag</th>\n",
              "      <th>rod_train</th>\n",
              "      <th>sender</th>\n",
              "      <th>ssp_station_esr</th>\n",
              "      <th>ssp_station_id</th>\n",
              "      <th>tare_weight</th>\n",
              "      <th>weight_brutto</th>\n",
              "    </tr>\n",
              "  </thead>\n",
              "  <tbody>\n",
              "    <tr>\n",
              "      <th>0</th>\n",
              "      <td>NaN</td>\n",
              "      <td>NaN</td>\n",
              "      <td>62827035</td>\n",
              "      <td>984700.0</td>\n",
              "      <td>NaN</td>\n",
              "      <td>NaN</td>\n",
              "      <td>NaN</td>\n",
              "      <td>2.0</td>\n",
              "      <td>81.0</td>\n",
              "      <td>2020-07-16 03:40:00</td>\n",
              "      <td>...</td>\n",
              "      <td>2.000039e+09</td>\n",
              "      <td>NaN</td>\n",
              "      <td>NaN</td>\n",
              "      <td>NaN</td>\n",
              "      <td>NaN</td>\n",
              "      <td>NaN</td>\n",
              "      <td>NaN</td>\n",
              "      <td>NaN</td>\n",
              "      <td>NaN</td>\n",
              "      <td>NaN</td>\n",
              "    </tr>\n",
              "    <tr>\n",
              "      <th>1</th>\n",
              "      <td>NaN</td>\n",
              "      <td>1.0</td>\n",
              "      <td>62827035</td>\n",
              "      <td>862201.0</td>\n",
              "      <td>20.0</td>\n",
              "      <td>NaN</td>\n",
              "      <td>421034.0</td>\n",
              "      <td>NaN</td>\n",
              "      <td>18.0</td>\n",
              "      <td>2020-07-16 14:10:00</td>\n",
              "      <td>...</td>\n",
              "      <td>2.002026e+09</td>\n",
              "      <td>NaN</td>\n",
              "      <td>93149858.0</td>\n",
              "      <td>60.0</td>\n",
              "      <td>NaN</td>\n",
              "      <td>68398528.0</td>\n",
              "      <td>NaN</td>\n",
              "      <td>NaN</td>\n",
              "      <td>249.0</td>\n",
              "      <td>NaN</td>\n",
              "    </tr>\n",
              "    <tr>\n",
              "      <th>2</th>\n",
              "      <td>NaN</td>\n",
              "      <td>NaN</td>\n",
              "      <td>62827316</td>\n",
              "      <td>863007.0</td>\n",
              "      <td>NaN</td>\n",
              "      <td>NaN</td>\n",
              "      <td>NaN</td>\n",
              "      <td>2.0</td>\n",
              "      <td>80.0</td>\n",
              "      <td>2020-07-16 14:50:00</td>\n",
              "      <td>...</td>\n",
              "      <td>2.001933e+09</td>\n",
              "      <td>NaN</td>\n",
              "      <td>NaN</td>\n",
              "      <td>NaN</td>\n",
              "      <td>NaN</td>\n",
              "      <td>NaN</td>\n",
              "      <td>NaN</td>\n",
              "      <td>NaN</td>\n",
              "      <td>NaN</td>\n",
              "      <td>NaN</td>\n",
              "    </tr>\n",
              "    <tr>\n",
              "      <th>3</th>\n",
              "      <td>NaN</td>\n",
              "      <td>NaN</td>\n",
              "      <td>62827381</td>\n",
              "      <td>862108.0</td>\n",
              "      <td>NaN</td>\n",
              "      <td>NaN</td>\n",
              "      <td>NaN</td>\n",
              "      <td>2.0</td>\n",
              "      <td>80.0</td>\n",
              "      <td>2020-07-16 14:16:00</td>\n",
              "      <td>...</td>\n",
              "      <td>2.001931e+09</td>\n",
              "      <td>NaN</td>\n",
              "      <td>NaN</td>\n",
              "      <td>NaN</td>\n",
              "      <td>NaN</td>\n",
              "      <td>NaN</td>\n",
              "      <td>NaN</td>\n",
              "      <td>NaN</td>\n",
              "      <td>NaN</td>\n",
              "      <td>NaN</td>\n",
              "    </tr>\n",
              "    <tr>\n",
              "      <th>4</th>\n",
              "      <td>NaN</td>\n",
              "      <td>1.0</td>\n",
              "      <td>62845730</td>\n",
              "      <td>887904.0</td>\n",
              "      <td>20.0</td>\n",
              "      <td>NaN</td>\n",
              "      <td>421034.0</td>\n",
              "      <td>NaN</td>\n",
              "      <td>19.0</td>\n",
              "      <td>2020-07-16 15:15:00</td>\n",
              "      <td>...</td>\n",
              "      <td>2.000039e+09</td>\n",
              "      <td>NaN</td>\n",
              "      <td>81195103.0</td>\n",
              "      <td>60.0</td>\n",
              "      <td>NaN</td>\n",
              "      <td>52682351.0</td>\n",
              "      <td>NaN</td>\n",
              "      <td>NaN</td>\n",
              "      <td>248.0</td>\n",
              "      <td>NaN</td>\n",
              "    </tr>\n",
              "  </tbody>\n",
              "</table>\n",
              "<p>5 rows × 21 columns</p>\n",
              "</div>\n",
              "      <button class=\"colab-df-convert\" onclick=\"convertToInteractive('df-b9ecfae8-9f3e-4059-a6e5-d45fd5cbf978')\"\n",
              "              title=\"Convert this dataframe to an interactive table.\"\n",
              "              style=\"display:none;\">\n",
              "        \n",
              "  <svg xmlns=\"http://www.w3.org/2000/svg\" height=\"24px\"viewBox=\"0 0 24 24\"\n",
              "       width=\"24px\">\n",
              "    <path d=\"M0 0h24v24H0V0z\" fill=\"none\"/>\n",
              "    <path d=\"M18.56 5.44l.94 2.06.94-2.06 2.06-.94-2.06-.94-.94-2.06-.94 2.06-2.06.94zm-11 1L8.5 8.5l.94-2.06 2.06-.94-2.06-.94L8.5 2.5l-.94 2.06-2.06.94zm10 10l.94 2.06.94-2.06 2.06-.94-2.06-.94-.94-2.06-.94 2.06-2.06.94z\"/><path d=\"M17.41 7.96l-1.37-1.37c-.4-.4-.92-.59-1.43-.59-.52 0-1.04.2-1.43.59L10.3 9.45l-7.72 7.72c-.78.78-.78 2.05 0 2.83L4 21.41c.39.39.9.59 1.41.59.51 0 1.02-.2 1.41-.59l7.78-7.78 2.81-2.81c.8-.78.8-2.07 0-2.86zM5.41 20L4 18.59l7.72-7.72 1.47 1.35L5.41 20z\"/>\n",
              "  </svg>\n",
              "      </button>\n",
              "      \n",
              "  <style>\n",
              "    .colab-df-container {\n",
              "      display:flex;\n",
              "      flex-wrap:wrap;\n",
              "      gap: 12px;\n",
              "    }\n",
              "\n",
              "    .colab-df-convert {\n",
              "      background-color: #E8F0FE;\n",
              "      border: none;\n",
              "      border-radius: 50%;\n",
              "      cursor: pointer;\n",
              "      display: none;\n",
              "      fill: #1967D2;\n",
              "      height: 32px;\n",
              "      padding: 0 0 0 0;\n",
              "      width: 32px;\n",
              "    }\n",
              "\n",
              "    .colab-df-convert:hover {\n",
              "      background-color: #E2EBFA;\n",
              "      box-shadow: 0px 1px 2px rgba(60, 64, 67, 0.3), 0px 1px 3px 1px rgba(60, 64, 67, 0.15);\n",
              "      fill: #174EA6;\n",
              "    }\n",
              "\n",
              "    [theme=dark] .colab-df-convert {\n",
              "      background-color: #3B4455;\n",
              "      fill: #D2E3FC;\n",
              "    }\n",
              "\n",
              "    [theme=dark] .colab-df-convert:hover {\n",
              "      background-color: #434B5C;\n",
              "      box-shadow: 0px 1px 3px 1px rgba(0, 0, 0, 0.15);\n",
              "      filter: drop-shadow(0px 1px 2px rgba(0, 0, 0, 0.3));\n",
              "      fill: #FFFFFF;\n",
              "    }\n",
              "  </style>\n",
              "\n",
              "      <script>\n",
              "        const buttonEl =\n",
              "          document.querySelector('#df-b9ecfae8-9f3e-4059-a6e5-d45fd5cbf978 button.colab-df-convert');\n",
              "        buttonEl.style.display =\n",
              "          google.colab.kernel.accessAllowed ? 'block' : 'none';\n",
              "\n",
              "        async function convertToInteractive(key) {\n",
              "          const element = document.querySelector('#df-b9ecfae8-9f3e-4059-a6e5-d45fd5cbf978');\n",
              "          const dataTable =\n",
              "            await google.colab.kernel.invokeFunction('convertToInteractive',\n",
              "                                                     [key], {});\n",
              "          if (!dataTable) return;\n",
              "\n",
              "          const docLinkHtml = 'Like what you see? Visit the ' +\n",
              "            '<a target=\"_blank\" href=https://colab.research.google.com/notebooks/data_table.ipynb>data table notebook</a>'\n",
              "            + ' to learn more about interactive tables.';\n",
              "          element.innerHTML = '';\n",
              "          dataTable['output_type'] = 'display_data';\n",
              "          await google.colab.output.renderOutput(dataTable, element);\n",
              "          const docLink = document.createElement('div');\n",
              "          docLink.innerHTML = docLinkHtml;\n",
              "          element.appendChild(docLink);\n",
              "        }\n",
              "      </script>\n",
              "    </div>\n",
              "  </div>\n",
              "  "
            ]
          },
          "metadata": {},
          "execution_count": 72
        }
      ],
      "source": [
        "data.head()"
      ]
    },
    {
      "cell_type": "code",
      "execution_count": 73,
      "metadata": {
        "id": "_xC9eRNCv1nO"
      },
      "outputs": [],
      "source": [
        "# # функция для поиска пустых данных\n",
        "def missing_data(data):\n",
        "    total = data.isnull().sum().sort_values(ascending = False)\n",
        "    percent = (data.isnull().sum()/data.isnull().count()*100).sort_values(ascending = False)\n",
        "    return pd.concat([total, percent], axis = 1, keys = ['Total', 'Percent'])"
      ]
    },
    {
      "cell_type": "code",
      "execution_count": 74,
      "metadata": {
        "id": "C8JHPTg6v1nP"
      },
      "outputs": [],
      "source": [
        "# # функция для поиска дубликатов по столбцам\n",
        "def find_duplicates_by_columns(df):  \n",
        "    duplicates = []\n",
        "    column = []\n",
        "    for i in df.columns:\n",
        "        duplicates.append(df[i].duplicated().sum())\n",
        "        column.append(i)\n",
        "    duplicates = pd.Series(duplicates) \n",
        "    column = pd.Series(column) \n",
        "    return pd.concat([column, duplicates], axis = 1,\n",
        "                     keys = ['column', 'duplicates']).sort_values(by = 'duplicates',ascending = False).head(40)"
      ]
    },
    {
      "cell_type": "code",
      "execution_count": 75,
      "metadata": {
        "colab": {
          "base_uri": "https://localhost:8080/",
          "height": 708
        },
        "id": "KRWDMkDpv1nQ",
        "outputId": "00678e3b-af96-4b83-c7f0-21afc0602c80"
      },
      "outputs": [
        {
          "output_type": "execute_result",
          "data": {
            "text/plain": [
              "                    Total    Percent\n",
              "danger            4077929  97.327249\n",
              "tare_weight       3085197  73.633880\n",
              "adm               3085197  73.633880\n",
              "rod_train         2623663  62.618526\n",
              "weight_brutto     2623318  62.610292\n",
              "ssp_station_id    2255185  53.824123\n",
              "operation_train   2222194  53.036732\n",
              "ssp_station_esr   2222193  53.036708\n",
              "index_train       2222193  53.036708\n",
              "gruz              1779461  42.470098\n",
              "receiver          1764323  42.108802\n",
              "sender            1764323  42.108802\n",
              "length            1715134  40.934816\n",
              "loaded            1645999  39.284783\n",
              "rodvag            1117475  26.670589\n",
              "operation_car      541281  12.918663\n",
              "destination_esr     61421   1.465925\n",
              "operation_st_id       598   0.014272\n",
              "operation_st_esr      598   0.014272\n",
              "operation_date          0   0.000000\n",
              "car_number              0   0.000000"
            ],
            "text/html": [
              "\n",
              "  <div id=\"df-e85d3968-b7e6-4e7f-b9d2-2c34ece0ee4b\">\n",
              "    <div class=\"colab-df-container\">\n",
              "      <div>\n",
              "<style scoped>\n",
              "    .dataframe tbody tr th:only-of-type {\n",
              "        vertical-align: middle;\n",
              "    }\n",
              "\n",
              "    .dataframe tbody tr th {\n",
              "        vertical-align: top;\n",
              "    }\n",
              "\n",
              "    .dataframe thead th {\n",
              "        text-align: right;\n",
              "    }\n",
              "</style>\n",
              "<table border=\"1\" class=\"dataframe\">\n",
              "  <thead>\n",
              "    <tr style=\"text-align: right;\">\n",
              "      <th></th>\n",
              "      <th>Total</th>\n",
              "      <th>Percent</th>\n",
              "    </tr>\n",
              "  </thead>\n",
              "  <tbody>\n",
              "    <tr>\n",
              "      <th>danger</th>\n",
              "      <td>4077929</td>\n",
              "      <td>97.327249</td>\n",
              "    </tr>\n",
              "    <tr>\n",
              "      <th>tare_weight</th>\n",
              "      <td>3085197</td>\n",
              "      <td>73.633880</td>\n",
              "    </tr>\n",
              "    <tr>\n",
              "      <th>adm</th>\n",
              "      <td>3085197</td>\n",
              "      <td>73.633880</td>\n",
              "    </tr>\n",
              "    <tr>\n",
              "      <th>rod_train</th>\n",
              "      <td>2623663</td>\n",
              "      <td>62.618526</td>\n",
              "    </tr>\n",
              "    <tr>\n",
              "      <th>weight_brutto</th>\n",
              "      <td>2623318</td>\n",
              "      <td>62.610292</td>\n",
              "    </tr>\n",
              "    <tr>\n",
              "      <th>ssp_station_id</th>\n",
              "      <td>2255185</td>\n",
              "      <td>53.824123</td>\n",
              "    </tr>\n",
              "    <tr>\n",
              "      <th>operation_train</th>\n",
              "      <td>2222194</td>\n",
              "      <td>53.036732</td>\n",
              "    </tr>\n",
              "    <tr>\n",
              "      <th>ssp_station_esr</th>\n",
              "      <td>2222193</td>\n",
              "      <td>53.036708</td>\n",
              "    </tr>\n",
              "    <tr>\n",
              "      <th>index_train</th>\n",
              "      <td>2222193</td>\n",
              "      <td>53.036708</td>\n",
              "    </tr>\n",
              "    <tr>\n",
              "      <th>gruz</th>\n",
              "      <td>1779461</td>\n",
              "      <td>42.470098</td>\n",
              "    </tr>\n",
              "    <tr>\n",
              "      <th>receiver</th>\n",
              "      <td>1764323</td>\n",
              "      <td>42.108802</td>\n",
              "    </tr>\n",
              "    <tr>\n",
              "      <th>sender</th>\n",
              "      <td>1764323</td>\n",
              "      <td>42.108802</td>\n",
              "    </tr>\n",
              "    <tr>\n",
              "      <th>length</th>\n",
              "      <td>1715134</td>\n",
              "      <td>40.934816</td>\n",
              "    </tr>\n",
              "    <tr>\n",
              "      <th>loaded</th>\n",
              "      <td>1645999</td>\n",
              "      <td>39.284783</td>\n",
              "    </tr>\n",
              "    <tr>\n",
              "      <th>rodvag</th>\n",
              "      <td>1117475</td>\n",
              "      <td>26.670589</td>\n",
              "    </tr>\n",
              "    <tr>\n",
              "      <th>operation_car</th>\n",
              "      <td>541281</td>\n",
              "      <td>12.918663</td>\n",
              "    </tr>\n",
              "    <tr>\n",
              "      <th>destination_esr</th>\n",
              "      <td>61421</td>\n",
              "      <td>1.465925</td>\n",
              "    </tr>\n",
              "    <tr>\n",
              "      <th>operation_st_id</th>\n",
              "      <td>598</td>\n",
              "      <td>0.014272</td>\n",
              "    </tr>\n",
              "    <tr>\n",
              "      <th>operation_st_esr</th>\n",
              "      <td>598</td>\n",
              "      <td>0.014272</td>\n",
              "    </tr>\n",
              "    <tr>\n",
              "      <th>operation_date</th>\n",
              "      <td>0</td>\n",
              "      <td>0.000000</td>\n",
              "    </tr>\n",
              "    <tr>\n",
              "      <th>car_number</th>\n",
              "      <td>0</td>\n",
              "      <td>0.000000</td>\n",
              "    </tr>\n",
              "  </tbody>\n",
              "</table>\n",
              "</div>\n",
              "      <button class=\"colab-df-convert\" onclick=\"convertToInteractive('df-e85d3968-b7e6-4e7f-b9d2-2c34ece0ee4b')\"\n",
              "              title=\"Convert this dataframe to an interactive table.\"\n",
              "              style=\"display:none;\">\n",
              "        \n",
              "  <svg xmlns=\"http://www.w3.org/2000/svg\" height=\"24px\"viewBox=\"0 0 24 24\"\n",
              "       width=\"24px\">\n",
              "    <path d=\"M0 0h24v24H0V0z\" fill=\"none\"/>\n",
              "    <path d=\"M18.56 5.44l.94 2.06.94-2.06 2.06-.94-2.06-.94-.94-2.06-.94 2.06-2.06.94zm-11 1L8.5 8.5l.94-2.06 2.06-.94-2.06-.94L8.5 2.5l-.94 2.06-2.06.94zm10 10l.94 2.06.94-2.06 2.06-.94-2.06-.94-.94-2.06-.94 2.06-2.06.94z\"/><path d=\"M17.41 7.96l-1.37-1.37c-.4-.4-.92-.59-1.43-.59-.52 0-1.04.2-1.43.59L10.3 9.45l-7.72 7.72c-.78.78-.78 2.05 0 2.83L4 21.41c.39.39.9.59 1.41.59.51 0 1.02-.2 1.41-.59l7.78-7.78 2.81-2.81c.8-.78.8-2.07 0-2.86zM5.41 20L4 18.59l7.72-7.72 1.47 1.35L5.41 20z\"/>\n",
              "  </svg>\n",
              "      </button>\n",
              "      \n",
              "  <style>\n",
              "    .colab-df-container {\n",
              "      display:flex;\n",
              "      flex-wrap:wrap;\n",
              "      gap: 12px;\n",
              "    }\n",
              "\n",
              "    .colab-df-convert {\n",
              "      background-color: #E8F0FE;\n",
              "      border: none;\n",
              "      border-radius: 50%;\n",
              "      cursor: pointer;\n",
              "      display: none;\n",
              "      fill: #1967D2;\n",
              "      height: 32px;\n",
              "      padding: 0 0 0 0;\n",
              "      width: 32px;\n",
              "    }\n",
              "\n",
              "    .colab-df-convert:hover {\n",
              "      background-color: #E2EBFA;\n",
              "      box-shadow: 0px 1px 2px rgba(60, 64, 67, 0.3), 0px 1px 3px 1px rgba(60, 64, 67, 0.15);\n",
              "      fill: #174EA6;\n",
              "    }\n",
              "\n",
              "    [theme=dark] .colab-df-convert {\n",
              "      background-color: #3B4455;\n",
              "      fill: #D2E3FC;\n",
              "    }\n",
              "\n",
              "    [theme=dark] .colab-df-convert:hover {\n",
              "      background-color: #434B5C;\n",
              "      box-shadow: 0px 1px 3px 1px rgba(0, 0, 0, 0.15);\n",
              "      filter: drop-shadow(0px 1px 2px rgba(0, 0, 0, 0.3));\n",
              "      fill: #FFFFFF;\n",
              "    }\n",
              "  </style>\n",
              "\n",
              "      <script>\n",
              "        const buttonEl =\n",
              "          document.querySelector('#df-e85d3968-b7e6-4e7f-b9d2-2c34ece0ee4b button.colab-df-convert');\n",
              "        buttonEl.style.display =\n",
              "          google.colab.kernel.accessAllowed ? 'block' : 'none';\n",
              "\n",
              "        async function convertToInteractive(key) {\n",
              "          const element = document.querySelector('#df-e85d3968-b7e6-4e7f-b9d2-2c34ece0ee4b');\n",
              "          const dataTable =\n",
              "            await google.colab.kernel.invokeFunction('convertToInteractive',\n",
              "                                                     [key], {});\n",
              "          if (!dataTable) return;\n",
              "\n",
              "          const docLinkHtml = 'Like what you see? Visit the ' +\n",
              "            '<a target=\"_blank\" href=https://colab.research.google.com/notebooks/data_table.ipynb>data table notebook</a>'\n",
              "            + ' to learn more about interactive tables.';\n",
              "          element.innerHTML = '';\n",
              "          dataTable['output_type'] = 'display_data';\n",
              "          await google.colab.output.renderOutput(dataTable, element);\n",
              "          const docLink = document.createElement('div');\n",
              "          docLink.innerHTML = docLinkHtml;\n",
              "          element.appendChild(docLink);\n",
              "        }\n",
              "      </script>\n",
              "    </div>\n",
              "  </div>\n",
              "  "
            ]
          },
          "metadata": {},
          "execution_count": 75
        }
      ],
      "source": [
        "#Поиск пустых данных\n",
        "missing_data(data)"
      ]
    },
    {
      "cell_type": "code",
      "execution_count": 76,
      "metadata": {
        "colab": {
          "base_uri": "https://localhost:8080/",
          "height": 708
        },
        "id": "5zzqS0Obv1nR",
        "outputId": "d7e583b6-661f-47d2-d111-704e9b79b00b"
      },
      "outputs": [
        {
          "output_type": "execute_result",
          "data": {
            "text/plain": [
              "              column  duplicates\n",
              "5             danger     4189913\n",
              "7             loaded     4189911\n",
              "14            rodvag     4189903\n",
              "4                adm     4189901\n",
              "12   operation_train     4189901\n",
              "8      operation_car     4189894\n",
              "15         rod_train     4189887\n",
              "1             length     4189838\n",
              "19       tare_weight     4189580\n",
              "11   operation_st_id     4189170\n",
              "10  operation_st_esr     4189170\n",
              "18    ssp_station_id     4189077\n",
              "17   ssp_station_esr     4189041\n",
              "6               gruz     4188940\n",
              "3    destination_esr     4187942\n",
              "16            sender     4186485\n",
              "13          receiver     4184246\n",
              "20     weight_brutto     4183495\n",
              "9     operation_date     4149472\n",
              "0        index_train     4145945\n",
              "2         car_number     3748667"
            ],
            "text/html": [
              "\n",
              "  <div id=\"df-6279a06c-9de2-4619-a34a-ada5fb71174d\">\n",
              "    <div class=\"colab-df-container\">\n",
              "      <div>\n",
              "<style scoped>\n",
              "    .dataframe tbody tr th:only-of-type {\n",
              "        vertical-align: middle;\n",
              "    }\n",
              "\n",
              "    .dataframe tbody tr th {\n",
              "        vertical-align: top;\n",
              "    }\n",
              "\n",
              "    .dataframe thead th {\n",
              "        text-align: right;\n",
              "    }\n",
              "</style>\n",
              "<table border=\"1\" class=\"dataframe\">\n",
              "  <thead>\n",
              "    <tr style=\"text-align: right;\">\n",
              "      <th></th>\n",
              "      <th>column</th>\n",
              "      <th>duplicates</th>\n",
              "    </tr>\n",
              "  </thead>\n",
              "  <tbody>\n",
              "    <tr>\n",
              "      <th>5</th>\n",
              "      <td>danger</td>\n",
              "      <td>4189913</td>\n",
              "    </tr>\n",
              "    <tr>\n",
              "      <th>7</th>\n",
              "      <td>loaded</td>\n",
              "      <td>4189911</td>\n",
              "    </tr>\n",
              "    <tr>\n",
              "      <th>14</th>\n",
              "      <td>rodvag</td>\n",
              "      <td>4189903</td>\n",
              "    </tr>\n",
              "    <tr>\n",
              "      <th>4</th>\n",
              "      <td>adm</td>\n",
              "      <td>4189901</td>\n",
              "    </tr>\n",
              "    <tr>\n",
              "      <th>12</th>\n",
              "      <td>operation_train</td>\n",
              "      <td>4189901</td>\n",
              "    </tr>\n",
              "    <tr>\n",
              "      <th>8</th>\n",
              "      <td>operation_car</td>\n",
              "      <td>4189894</td>\n",
              "    </tr>\n",
              "    <tr>\n",
              "      <th>15</th>\n",
              "      <td>rod_train</td>\n",
              "      <td>4189887</td>\n",
              "    </tr>\n",
              "    <tr>\n",
              "      <th>1</th>\n",
              "      <td>length</td>\n",
              "      <td>4189838</td>\n",
              "    </tr>\n",
              "    <tr>\n",
              "      <th>19</th>\n",
              "      <td>tare_weight</td>\n",
              "      <td>4189580</td>\n",
              "    </tr>\n",
              "    <tr>\n",
              "      <th>11</th>\n",
              "      <td>operation_st_id</td>\n",
              "      <td>4189170</td>\n",
              "    </tr>\n",
              "    <tr>\n",
              "      <th>10</th>\n",
              "      <td>operation_st_esr</td>\n",
              "      <td>4189170</td>\n",
              "    </tr>\n",
              "    <tr>\n",
              "      <th>18</th>\n",
              "      <td>ssp_station_id</td>\n",
              "      <td>4189077</td>\n",
              "    </tr>\n",
              "    <tr>\n",
              "      <th>17</th>\n",
              "      <td>ssp_station_esr</td>\n",
              "      <td>4189041</td>\n",
              "    </tr>\n",
              "    <tr>\n",
              "      <th>6</th>\n",
              "      <td>gruz</td>\n",
              "      <td>4188940</td>\n",
              "    </tr>\n",
              "    <tr>\n",
              "      <th>3</th>\n",
              "      <td>destination_esr</td>\n",
              "      <td>4187942</td>\n",
              "    </tr>\n",
              "    <tr>\n",
              "      <th>16</th>\n",
              "      <td>sender</td>\n",
              "      <td>4186485</td>\n",
              "    </tr>\n",
              "    <tr>\n",
              "      <th>13</th>\n",
              "      <td>receiver</td>\n",
              "      <td>4184246</td>\n",
              "    </tr>\n",
              "    <tr>\n",
              "      <th>20</th>\n",
              "      <td>weight_brutto</td>\n",
              "      <td>4183495</td>\n",
              "    </tr>\n",
              "    <tr>\n",
              "      <th>9</th>\n",
              "      <td>operation_date</td>\n",
              "      <td>4149472</td>\n",
              "    </tr>\n",
              "    <tr>\n",
              "      <th>0</th>\n",
              "      <td>index_train</td>\n",
              "      <td>4145945</td>\n",
              "    </tr>\n",
              "    <tr>\n",
              "      <th>2</th>\n",
              "      <td>car_number</td>\n",
              "      <td>3748667</td>\n",
              "    </tr>\n",
              "  </tbody>\n",
              "</table>\n",
              "</div>\n",
              "      <button class=\"colab-df-convert\" onclick=\"convertToInteractive('df-6279a06c-9de2-4619-a34a-ada5fb71174d')\"\n",
              "              title=\"Convert this dataframe to an interactive table.\"\n",
              "              style=\"display:none;\">\n",
              "        \n",
              "  <svg xmlns=\"http://www.w3.org/2000/svg\" height=\"24px\"viewBox=\"0 0 24 24\"\n",
              "       width=\"24px\">\n",
              "    <path d=\"M0 0h24v24H0V0z\" fill=\"none\"/>\n",
              "    <path d=\"M18.56 5.44l.94 2.06.94-2.06 2.06-.94-2.06-.94-.94-2.06-.94 2.06-2.06.94zm-11 1L8.5 8.5l.94-2.06 2.06-.94-2.06-.94L8.5 2.5l-.94 2.06-2.06.94zm10 10l.94 2.06.94-2.06 2.06-.94-2.06-.94-.94-2.06-.94 2.06-2.06.94z\"/><path d=\"M17.41 7.96l-1.37-1.37c-.4-.4-.92-.59-1.43-.59-.52 0-1.04.2-1.43.59L10.3 9.45l-7.72 7.72c-.78.78-.78 2.05 0 2.83L4 21.41c.39.39.9.59 1.41.59.51 0 1.02-.2 1.41-.59l7.78-7.78 2.81-2.81c.8-.78.8-2.07 0-2.86zM5.41 20L4 18.59l7.72-7.72 1.47 1.35L5.41 20z\"/>\n",
              "  </svg>\n",
              "      </button>\n",
              "      \n",
              "  <style>\n",
              "    .colab-df-container {\n",
              "      display:flex;\n",
              "      flex-wrap:wrap;\n",
              "      gap: 12px;\n",
              "    }\n",
              "\n",
              "    .colab-df-convert {\n",
              "      background-color: #E8F0FE;\n",
              "      border: none;\n",
              "      border-radius: 50%;\n",
              "      cursor: pointer;\n",
              "      display: none;\n",
              "      fill: #1967D2;\n",
              "      height: 32px;\n",
              "      padding: 0 0 0 0;\n",
              "      width: 32px;\n",
              "    }\n",
              "\n",
              "    .colab-df-convert:hover {\n",
              "      background-color: #E2EBFA;\n",
              "      box-shadow: 0px 1px 2px rgba(60, 64, 67, 0.3), 0px 1px 3px 1px rgba(60, 64, 67, 0.15);\n",
              "      fill: #174EA6;\n",
              "    }\n",
              "\n",
              "    [theme=dark] .colab-df-convert {\n",
              "      background-color: #3B4455;\n",
              "      fill: #D2E3FC;\n",
              "    }\n",
              "\n",
              "    [theme=dark] .colab-df-convert:hover {\n",
              "      background-color: #434B5C;\n",
              "      box-shadow: 0px 1px 3px 1px rgba(0, 0, 0, 0.15);\n",
              "      filter: drop-shadow(0px 1px 2px rgba(0, 0, 0, 0.3));\n",
              "      fill: #FFFFFF;\n",
              "    }\n",
              "  </style>\n",
              "\n",
              "      <script>\n",
              "        const buttonEl =\n",
              "          document.querySelector('#df-6279a06c-9de2-4619-a34a-ada5fb71174d button.colab-df-convert');\n",
              "        buttonEl.style.display =\n",
              "          google.colab.kernel.accessAllowed ? 'block' : 'none';\n",
              "\n",
              "        async function convertToInteractive(key) {\n",
              "          const element = document.querySelector('#df-6279a06c-9de2-4619-a34a-ada5fb71174d');\n",
              "          const dataTable =\n",
              "            await google.colab.kernel.invokeFunction('convertToInteractive',\n",
              "                                                     [key], {});\n",
              "          if (!dataTable) return;\n",
              "\n",
              "          const docLinkHtml = 'Like what you see? Visit the ' +\n",
              "            '<a target=\"_blank\" href=https://colab.research.google.com/notebooks/data_table.ipynb>data table notebook</a>'\n",
              "            + ' to learn more about interactive tables.';\n",
              "          element.innerHTML = '';\n",
              "          dataTable['output_type'] = 'display_data';\n",
              "          await google.colab.output.renderOutput(dataTable, element);\n",
              "          const docLink = document.createElement('div');\n",
              "          docLink.innerHTML = docLinkHtml;\n",
              "          element.appendChild(docLink);\n",
              "        }\n",
              "      </script>\n",
              "    </div>\n",
              "  </div>\n",
              "  "
            ]
          },
          "metadata": {},
          "execution_count": 76
        }
      ],
      "source": [
        "#Поиск дубликатов\n",
        "find_duplicates_by_columns(data)"
      ]
    },
    {
      "cell_type": "code",
      "source": [
        "cm=data.operation_car[data.operation_car.notnull()].nunique()\n"
      ],
      "metadata": {
        "id": "O7mXdGHP8a0m"
      },
      "execution_count": 77,
      "outputs": []
    },
    {
      "cell_type": "code",
      "source": [
        "#справочник по операциям с вагонами\n",
        "#car_ops = pd.read_csv('/content/drive/MyDrive/ColabNotebooks/Hakaton/VIVSD_ASOUP_NSI_TN_OPER_VAG.csv',sep=',', encoding='utf-8')\n",
        "#car_ops.head()\n",
        "#print('Уникальных операций с вагонами в датасете:')\n",
        "#for i in data.operation_car[data.operation_car.notnull()].value_counts().index:\n",
        "#    print(i,car_ops.naimen_oper[car_ops.index_code == i].values)"
      ],
      "metadata": {
        "colab": {
          "base_uri": "https://localhost:8080/",
          "height": 444
        },
        "id": "mK_vE6_95hnY",
        "outputId": "57ad7b88-f5b1-46e9-8410-541b963c3107"
      },
      "execution_count": 18,
      "outputs": [
        {
          "output_type": "execute_result",
          "data": {
            "text/plain": [
              "   dor_nsi            id  kop mnem_oper  \\\n",
              "0        0  1.900750e+12    0      КОН    \n",
              "1        0  1.900750e+12    2      ОТПР   \n",
              "2        0  1.900750e+12    3      ИСКП   \n",
              "3        0  1.900750e+12    4      ВКЛП   \n",
              "4        0  1.900750e+12    5      ПРМД   \n",
              "\n",
              "                              naimen_oper              naimen_oper_s  \\\n",
              "0  ОКОНЧАНИЕ ПЕРЕВОЗКИ ГРУЗА НА СВ.ОСЯХ    ОК.ПЕРЕВОЗ ГР.НА СВ.ОСЯХ    \n",
              "1  ОТПРАВЛЕНИЕ ВАГОНА СО СТАНЦИИ           ОТПР СО СТАНЦИИ             \n",
              "2  ИСКЛЮЧЕНИE ВАГОНА ИЗ ПОЕЗДА             ИСКЛ ИЗ ПОЕЗДА              \n",
              "3  ВКЛЮЧЕНИE ВАГОНА В ПОЕЗД                ВКЛ. В ПОЕЗД                \n",
              "4  ПРИЕМ ПО МЕЖДОРОЖНОМУ СТЫКУ             ПРМ ПО МЕЖДОР. СТЫКУ        \n",
              "\n",
              "    ont_time_write  request_unq_seq    req_date_time  \n",
              "0  02.10.2020 2:24     1.900750e+12  02.10.2020 2:24  \n",
              "1  02.10.2020 2:24     1.900750e+12  02.10.2020 2:24  \n",
              "2  02.10.2020 2:24     1.900750e+12  02.10.2020 2:24  \n",
              "3  02.10.2020 2:24     1.900750e+12  02.10.2020 2:24  \n",
              "4  02.10.2020 2:24     1.900750e+12  02.10.2020 2:24  "
            ],
            "text/html": [
              "\n",
              "  <div id=\"df-8c5386eb-e0af-4ae9-a1b0-780314299502\">\n",
              "    <div class=\"colab-df-container\">\n",
              "      <div>\n",
              "<style scoped>\n",
              "    .dataframe tbody tr th:only-of-type {\n",
              "        vertical-align: middle;\n",
              "    }\n",
              "\n",
              "    .dataframe tbody tr th {\n",
              "        vertical-align: top;\n",
              "    }\n",
              "\n",
              "    .dataframe thead th {\n",
              "        text-align: right;\n",
              "    }\n",
              "</style>\n",
              "<table border=\"1\" class=\"dataframe\">\n",
              "  <thead>\n",
              "    <tr style=\"text-align: right;\">\n",
              "      <th></th>\n",
              "      <th>dor_nsi</th>\n",
              "      <th>id</th>\n",
              "      <th>kop</th>\n",
              "      <th>mnem_oper</th>\n",
              "      <th>naimen_oper</th>\n",
              "      <th>naimen_oper_s</th>\n",
              "      <th>ont_time_write</th>\n",
              "      <th>request_unq_seq</th>\n",
              "      <th>req_date_time</th>\n",
              "    </tr>\n",
              "  </thead>\n",
              "  <tbody>\n",
              "    <tr>\n",
              "      <th>0</th>\n",
              "      <td>0</td>\n",
              "      <td>1.900750e+12</td>\n",
              "      <td>0</td>\n",
              "      <td>КОН</td>\n",
              "      <td>ОКОНЧАНИЕ ПЕРЕВОЗКИ ГРУЗА НА СВ.ОСЯХ</td>\n",
              "      <td>ОК.ПЕРЕВОЗ ГР.НА СВ.ОСЯХ</td>\n",
              "      <td>02.10.2020 2:24</td>\n",
              "      <td>1.900750e+12</td>\n",
              "      <td>02.10.2020 2:24</td>\n",
              "    </tr>\n",
              "    <tr>\n",
              "      <th>1</th>\n",
              "      <td>0</td>\n",
              "      <td>1.900750e+12</td>\n",
              "      <td>2</td>\n",
              "      <td>ОТПР</td>\n",
              "      <td>ОТПРАВЛЕНИЕ ВАГОНА СО СТАНЦИИ</td>\n",
              "      <td>ОТПР СО СТАНЦИИ</td>\n",
              "      <td>02.10.2020 2:24</td>\n",
              "      <td>1.900750e+12</td>\n",
              "      <td>02.10.2020 2:24</td>\n",
              "    </tr>\n",
              "    <tr>\n",
              "      <th>2</th>\n",
              "      <td>0</td>\n",
              "      <td>1.900750e+12</td>\n",
              "      <td>3</td>\n",
              "      <td>ИСКП</td>\n",
              "      <td>ИСКЛЮЧЕНИE ВАГОНА ИЗ ПОЕЗДА</td>\n",
              "      <td>ИСКЛ ИЗ ПОЕЗДА</td>\n",
              "      <td>02.10.2020 2:24</td>\n",
              "      <td>1.900750e+12</td>\n",
              "      <td>02.10.2020 2:24</td>\n",
              "    </tr>\n",
              "    <tr>\n",
              "      <th>3</th>\n",
              "      <td>0</td>\n",
              "      <td>1.900750e+12</td>\n",
              "      <td>4</td>\n",
              "      <td>ВКЛП</td>\n",
              "      <td>ВКЛЮЧЕНИE ВАГОНА В ПОЕЗД</td>\n",
              "      <td>ВКЛ. В ПОЕЗД</td>\n",
              "      <td>02.10.2020 2:24</td>\n",
              "      <td>1.900750e+12</td>\n",
              "      <td>02.10.2020 2:24</td>\n",
              "    </tr>\n",
              "    <tr>\n",
              "      <th>4</th>\n",
              "      <td>0</td>\n",
              "      <td>1.900750e+12</td>\n",
              "      <td>5</td>\n",
              "      <td>ПРМД</td>\n",
              "      <td>ПРИЕМ ПО МЕЖДОРОЖНОМУ СТЫКУ</td>\n",
              "      <td>ПРМ ПО МЕЖДОР. СТЫКУ</td>\n",
              "      <td>02.10.2020 2:24</td>\n",
              "      <td>1.900750e+12</td>\n",
              "      <td>02.10.2020 2:24</td>\n",
              "    </tr>\n",
              "  </tbody>\n",
              "</table>\n",
              "</div>\n",
              "      <button class=\"colab-df-convert\" onclick=\"convertToInteractive('df-8c5386eb-e0af-4ae9-a1b0-780314299502')\"\n",
              "              title=\"Convert this dataframe to an interactive table.\"\n",
              "              style=\"display:none;\">\n",
              "        \n",
              "  <svg xmlns=\"http://www.w3.org/2000/svg\" height=\"24px\"viewBox=\"0 0 24 24\"\n",
              "       width=\"24px\">\n",
              "    <path d=\"M0 0h24v24H0V0z\" fill=\"none\"/>\n",
              "    <path d=\"M18.56 5.44l.94 2.06.94-2.06 2.06-.94-2.06-.94-.94-2.06-.94 2.06-2.06.94zm-11 1L8.5 8.5l.94-2.06 2.06-.94-2.06-.94L8.5 2.5l-.94 2.06-2.06.94zm10 10l.94 2.06.94-2.06 2.06-.94-2.06-.94-.94-2.06-.94 2.06-2.06.94z\"/><path d=\"M17.41 7.96l-1.37-1.37c-.4-.4-.92-.59-1.43-.59-.52 0-1.04.2-1.43.59L10.3 9.45l-7.72 7.72c-.78.78-.78 2.05 0 2.83L4 21.41c.39.39.9.59 1.41.59.51 0 1.02-.2 1.41-.59l7.78-7.78 2.81-2.81c.8-.78.8-2.07 0-2.86zM5.41 20L4 18.59l7.72-7.72 1.47 1.35L5.41 20z\"/>\n",
              "  </svg>\n",
              "      </button>\n",
              "      \n",
              "  <style>\n",
              "    .colab-df-container {\n",
              "      display:flex;\n",
              "      flex-wrap:wrap;\n",
              "      gap: 12px;\n",
              "    }\n",
              "\n",
              "    .colab-df-convert {\n",
              "      background-color: #E8F0FE;\n",
              "      border: none;\n",
              "      border-radius: 50%;\n",
              "      cursor: pointer;\n",
              "      display: none;\n",
              "      fill: #1967D2;\n",
              "      height: 32px;\n",
              "      padding: 0 0 0 0;\n",
              "      width: 32px;\n",
              "    }\n",
              "\n",
              "    .colab-df-convert:hover {\n",
              "      background-color: #E2EBFA;\n",
              "      box-shadow: 0px 1px 2px rgba(60, 64, 67, 0.3), 0px 1px 3px 1px rgba(60, 64, 67, 0.15);\n",
              "      fill: #174EA6;\n",
              "    }\n",
              "\n",
              "    [theme=dark] .colab-df-convert {\n",
              "      background-color: #3B4455;\n",
              "      fill: #D2E3FC;\n",
              "    }\n",
              "\n",
              "    [theme=dark] .colab-df-convert:hover {\n",
              "      background-color: #434B5C;\n",
              "      box-shadow: 0px 1px 3px 1px rgba(0, 0, 0, 0.15);\n",
              "      filter: drop-shadow(0px 1px 2px rgba(0, 0, 0, 0.3));\n",
              "      fill: #FFFFFF;\n",
              "    }\n",
              "  </style>\n",
              "\n",
              "      <script>\n",
              "        const buttonEl =\n",
              "          document.querySelector('#df-8c5386eb-e0af-4ae9-a1b0-780314299502 button.colab-df-convert');\n",
              "        buttonEl.style.display =\n",
              "          google.colab.kernel.accessAllowed ? 'block' : 'none';\n",
              "\n",
              "        async function convertToInteractive(key) {\n",
              "          const element = document.querySelector('#df-8c5386eb-e0af-4ae9-a1b0-780314299502');\n",
              "          const dataTable =\n",
              "            await google.colab.kernel.invokeFunction('convertToInteractive',\n",
              "                                                     [key], {});\n",
              "          if (!dataTable) return;\n",
              "\n",
              "          const docLinkHtml = 'Like what you see? Visit the ' +\n",
              "            '<a target=\"_blank\" href=https://colab.research.google.com/notebooks/data_table.ipynb>data table notebook</a>'\n",
              "            + ' to learn more about interactive tables.';\n",
              "          element.innerHTML = '';\n",
              "          dataTable['output_type'] = 'display_data';\n",
              "          await google.colab.output.renderOutput(dataTable, element);\n",
              "          const docLink = document.createElement('div');\n",
              "          docLink.innerHTML = docLinkHtml;\n",
              "          element.appendChild(docLink);\n",
              "        }\n",
              "      </script>\n",
              "    </div>\n",
              "  </div>\n",
              "  "
            ]
          },
          "metadata": {},
          "execution_count": 18
        }
      ]
    },
    {
      "cell_type": "markdown",
      "metadata": {
        "id": "IfVZKHJgv1nS"
      },
      "source": [
        "# Предобработка"
      ]
    },
    {
      "cell_type": "code",
      "execution_count": 78,
      "metadata": {
        "colab": {
          "base_uri": "https://localhost:8080/"
        },
        "id": "8xUx1qs4v1nT",
        "outputId": "9e77103e-d74d-4061-940c-27b4649eaddb"
      },
      "outputs": [
        {
          "output_type": "execute_result",
          "data": {
            "text/plain": [
              "0         2020-07-16 03:40:00\n",
              "1         2020-07-16 14:10:00\n",
              "2         2020-07-16 14:50:00\n",
              "3         2020-07-16 14:16:00\n",
              "4         2020-07-16 15:15:00\n",
              "                  ...        \n",
              "4189910   2020-07-16 03:29:00\n",
              "4189911   2020-07-16 03:30:00\n",
              "4189912   2020-07-15 20:00:00\n",
              "4189913   2020-07-16 02:37:00\n",
              "4189914   2020-07-16 04:28:00\n",
              "Name: operation_date, Length: 4189915, dtype: datetime64[ns]"
            ]
          },
          "metadata": {},
          "execution_count": 78
        }
      ],
      "source": [
        "data.operation_date = pd.to_datetime(data.operation_date, format='%Y-%m-%d %H:%M')\n",
        "data.operation_date"
      ]
    },
    {
      "cell_type": "code",
      "execution_count": 79,
      "metadata": {
        "id": "kfs8rb5kv1nT"
      },
      "outputs": [],
      "source": [
        "#заполнениe нулевых значений в наборе данных\n",
        "#Признак опасного груза в вагоне\n",
        "\n",
        "data.danger = data.danger.fillna(0)"
      ]
    },
    {
      "cell_type": "code",
      "execution_count": 80,
      "metadata": {
        "colab": {
          "base_uri": "https://localhost:8080/"
        },
        "id": "8yPQxiebv1nU",
        "outputId": "1fc0b92e-332d-4485-93dc-2b25654826e8"
      },
      "outputs": [
        {
          "output_type": "execute_result",
          "data": {
            "text/plain": [
              "(4189915, 21)"
            ]
          },
          "metadata": {},
          "execution_count": 80
        }
      ],
      "source": [
        "#узнаем размерность\n",
        "data.shape"
      ]
    },
    {
      "cell_type": "code",
      "execution_count": 81,
      "metadata": {
        "id": "o0xjZyT0v1nU"
      },
      "outputs": [],
      "source": [
        "data.danger = data.danger.fillna(0)\n",
        "data = data.sort_values(by = ['operation_date'], ascending = True)\n",
        "#пересортируем строки (drop=True - для удаления старых индексов)\n",
        "data = data.reset_index(drop = True)"
      ]
    },
    {
      "cell_type": "markdown",
      "metadata": {
        "id": "OdXNlrikv1nV"
      },
      "source": [
        "# Получение всех подходящих условию операций включения вагонов в поезд для всех вагонов на всех станциях"
      ]
    },
    {
      "cell_type": "code",
      "execution_count": 82,
      "metadata": {
        "id": "gcUV5U4Cv1nW"
      },
      "outputs": [],
      "source": [
        "# возвращает список датафреймов со всеми операцифми по каждому уникальному вагону \n",
        "def get_data_vags(data):\n",
        "    \n",
        "    data_vags_stack = [] \n",
        "    vags_numbers = data['car_number'].unique()\n",
        "    print('Собираются датафреймы для каждого из {} уникальных вагонов :'.format(len(vags_numbers)))\n",
        "    for vags_number in tqdm(vags_numbers):\n",
        "        vag_df = pd.DataFrame(data[data.car_number == vags_number].sort_values(by = ['operation_date'], ascending = True))\n",
        "        vag_df = vag_df.reset_index(drop=True)\n",
        "        data_vags_stack.append(vag_df)\n",
        "        \n",
        "    return data_vags_stack #список датафрейфмов"
      ]
    },
    {
      "cell_type": "code",
      "execution_count": 83,
      "metadata": {
        "id": "Q5C6pBAYv1nW"
      },
      "outputs": [],
      "source": [
        "# принимает датафрейм со всеми операцифми по каждому уникальному вагону\n",
        "# возвращат список датафреймов, где каждый элемент - датафрейм одного уникального вагона на одной уникальной станции\n",
        "def split_data_vag_into_stations(data_vag):  \n",
        "    \n",
        "    data_vags_st_stack = []\n",
        "    st_esrS = data_vag.operation_st_esr.unique()\n",
        "    for st_esr in st_esrS:\n",
        "        vag_st_df = pd.DataFrame(data_vag[data_vag.operation_st_esr == st_esr].sort_values(by = ['operation_date'], ascending = True))\n",
        "        vag_st_df = vag_st_df.reset_index(drop = True)\n",
        "        data_vags_st_stack.append(vag_st_df)\n",
        "    \n",
        "    return data_vags_st_stack # стек датафреймов одного вагона на разных станциях"
      ]
    },
    {
      "cell_type": "markdown",
      "metadata": {
        "id": "fO8OvdmRv1nX"
      },
      "source": [
        "Для каждого датафрейма с данными об уникальном вагоне на уникальной станции за все время, ищутся operation_train in ([ 2., 62., 22., 42.] ), идем по наблюдениям назад по времени и ищем первую встречную operation_car == 4, идем по наблюдениям назад по времени до предыдущего отправления в operation_train и если в интервале есть операции погрузки/выгрузки до текущей операции включения, значит данную операцию включения в поезд берем, если же в интервале нет операций погрузки выгрузки, то переходим к предыдущей операции включения и проверяем её интервал до отправления на наличие операций погрузки/выгрузки. Из нескольких подходящих вышеуказанному условию наблюдений внутри каждого интервала (между отправлениями поезда), в которых операция с вагоном == операция включения в поезд, берем только одну последнюю операцию включения в поезд.\n"
      ]
    },
    {
      "cell_type": "code",
      "execution_count": 84,
      "metadata": {
        "id": "RUbvG1Fev1nY"
      },
      "outputs": [],
      "source": [
        "# принимает датафрейм с данными об уникальном вагоне на уникальной станции за все время\n",
        "# возвращает датафрейм с операциями включения, подходящими условию, для одного уникального вагона на одной уникальной станции\n",
        "# operation_car Код операции ВМ  АСОУП\n",
        "# operation_train Код операции ПМ  АСОУП\n",
        "def get_includes(data_vag_st):\n",
        "    \n",
        "    buffer = []\n",
        "    for i in reversed(range(len(data_vag_st))): # идем по последнним наблюдениям к боллее старым для каждого датафрейма с данными об уникальном вагоне на уникальной станции за все время\n",
        "        if (data_vag_st.loc[i, 'operation_train'] in (2, 62, 22, 42)) & (i>0): # находим операцию отправления поезда\n",
        "        # условие operation_car пусто, operation_train не пусто\n",
        "        #https://rts-nn.ru/info/\n",
        "        ##https://cargolk.rzd.ru/catalogs/cargo_operations\n",
        "        #https://online.freicon.ru/info/wagon-operations?page=3&perPage=25\n",
        "            j = i-1\n",
        "            valid_inclusion_operations_indexes = [] #подходящие вагоны с операцией включения\n",
        "            while (data_vag_st.loc[j, 'operation_train'] not in (2, 62, 22, 42)) & (j>0):# ограничиваем поиск операции включения предыдущей операцией отправления поезда\n",
        "                if data_vag_st.loc[j, 'operation_car'] == 4:  #находим операции включения в поезд перед последней операцией отправления\n",
        "                    flag = False\n",
        "                    k = j-1\n",
        "                    while (data_vag_st.loc[k, 'operation_train'] not in (2, 62, 22, 42)) & (k>=0): #ограничиваем интервал до предыдущей операции отправления поезда\n",
        "                        if data_vag_st.loc[k, 'operation_car'] in (10,11,13,14,15,17,18,19,20,21,23,24,25,28,29):#проверяем наличие хоть одной операции разгрузки/погрузки\n",
        "                        # цифры взяты из предложенного селекта ((kop_vmd >= 10 and kop_vmd <= 19) or (kop_vmd >= 20 and kop_vmd <= 29)) and date_op<=DATE('2021-08-31') and date_op>=DATE('2021-08-01')\n",
        "                            flag = True \n",
        "                        if k > 0:\n",
        "                            k -= 1                # смотрим предыдущие записиси в интервале\n",
        "                        else:\n",
        "                            break  \n",
        "                    if flag == True:\n",
        "                        valid_inclusion_operations_indexes.append(j)\n",
        "                j-=1\n",
        "                \n",
        "            if valid_inclusion_operations_indexes : buffer.append(data_vag_st.iloc[valid_inclusion_operations_indexes[0]]) # список может быть пустым, поэтому есть данное условие\n",
        "            \n",
        "    return pd.DataFrame(data = buffer).reset_index(drop = True)"
      ]
    },
    {
      "cell_type": "code",
      "execution_count": 85,
      "metadata": {
        "id": "JoG5OA6Av1nZ"
      },
      "outputs": [],
      "source": [
        "# возвращает стек непустых датафреймов с операциями включения,соответствующих условию, для каждого вагона на всех станциях\n",
        "def get_all_includes_by_vags(data):\n",
        "    data_vags_stack = get_data_vags(data)\n",
        "    includes_by_vags = []\n",
        "    print('Идет поиск необходимых операций включений для каждого уникального вагона из {} :'.format(len(data_vags_stack)))\n",
        "    for data_vag in tqdm(data_vags_stack):\n",
        "        data_vag_stations_stack = split_data_vag_into_stations(data_vag)\n",
        "        includes_by_vag_st = [] # те, что получились здесь с разных станций сложим в один датафрейм ( для каждого вагона)\n",
        "        for data_vag_station in data_vag_stations_stack:\n",
        "            includes_by_vag_st.append(get_includes(data_vag_station))\n",
        "            \n",
        "        includes_by_vag_df = pd.concat([x for x in includes_by_vag_st]) # соединим датафреймы с каждой отдельной станцей в один для каждого вагона\n",
        "        includes_by_vags.append(includes_by_vag_df)\n",
        "    return [df for df in includes_by_vags if not df.empty]"
      ]
    },
    {
      "cell_type": "code",
      "execution_count": 86,
      "metadata": {
        "id": "Y-ZcR1BNv1nZ"
      },
      "outputs": [],
      "source": [
        "# соединяет датафреймы друг с другом\n",
        "def get_includes_df(all_includes_by_vags):\n",
        "    df_includes = pd.concat([x for x in all_includes_by_vags])\n",
        "    print('Общее по всем вагонам количество подходящих условию операций включения составило {}'.format(df_includes.shape[0]))\n",
        "    return df_includes"
      ]
    },
    {
      "cell_type": "code",
      "execution_count": 87,
      "metadata": {
        "scrolled": true,
        "colab": {
          "base_uri": "https://localhost:8080/",
          "height": 150,
          "referenced_widgets": [
            "ff7e967480ef4290a1ec267051f13c6d",
            "9a0ca2ff93f3480983c8a09f3871bf28",
            "11ebb8a5be374040b88d81096a5f1d50",
            "c632defddde946d0b19cdc185ee86964",
            "93b38482b2aa45b6b2b6043dc1724b93",
            "83dd18959aec433c8b3081b591ae8d1e",
            "8a8e01e2fe884f8898e0946c01e9fc9b",
            "34aa6d3b72084d62a77bb0c267686354",
            "400b590ac7ad4ad089b643bcc773a596",
            "2606b4d916bc4933b81acc267baa39e1",
            "47f68d3de25644059368127d8a0fcf3b",
            "27cf7e3323324461902263fcc1e3c687",
            "f755461e6c8a44d08cfdb3a456667fa5",
            "6fa260f758c64e90a4e058b7f3aafb98",
            "0f6fade786254841b991173d10636683",
            "aaf04d11991f43f6b748c65e0e315100",
            "790548bf0d884df1a5cfa80b4f09680e",
            "e8cab76ad516427390caf4cc4316ca82",
            "53fbdb1725f9456da788315886830ba4",
            "050e6ac82d4c47839e4296ab507e3402",
            "b7eb66477ac74dfb800ae04ff857e5e9",
            "df09f42df6274ac191a51c30d52fdf5e"
          ]
        },
        "id": "RRJfN00Cv1na",
        "outputId": "5341ece4-2222-4f77-a556-9a54ec7d743e"
      },
      "outputs": [
        {
          "metadata": {
            "tags": null
          },
          "name": "stdout",
          "output_type": "stream",
          "text": [
            "Собираются датафреймы для каждого из 441248 уникальных вагонов :\n"
          ]
        },
        {
          "data": {
            "application/vnd.jupyter.widget-view+json": {
              "model_id": "ff7e967480ef4290a1ec267051f13c6d",
              "version_major": 2,
              "version_minor": 0
            },
            "text/plain": [
              "  0%|          | 0/441248 [00:00<?, ?it/s]"
            ]
          },
          "metadata": {},
          "output_type": "display_data"
        },
        {
          "metadata": {
            "tags": null
          },
          "name": "stdout",
          "output_type": "stream",
          "text": [
            "Идет поиск необходимых операций включений для каждого уникального вагона из 441248 :\n"
          ]
        },
        {
          "data": {
            "application/vnd.jupyter.widget-view+json": {
              "model_id": "27cf7e3323324461902263fcc1e3c687",
              "version_major": 2,
              "version_minor": 0
            },
            "text/plain": [
              "  0%|          | 0/441248 [00:00<?, ?it/s]"
            ]
          },
          "metadata": {},
          "output_type": "display_data"
        },
        {
          "output_type": "stream",
          "name": "stdout",
          "text": [
            "CPU times: user 2h 10min 17s, sys: 5min 15s, total: 2h 15min 33s\n",
            "Wall time: 1h 49min 33s\n"
          ]
        }
      ],
      "source": [
        "%%time\n",
        "all_includes_by_vags = get_all_includes_by_vags(data)"
      ]
    },
    {
      "cell_type": "code",
      "execution_count": 88,
      "metadata": {
        "colab": {
          "base_uri": "https://localhost:8080/"
        },
        "id": "mvNAGv9rv1na",
        "outputId": "8b4945c5-cd16-4d88-d519-5419c4ed12e6"
      },
      "outputs": [
        {
          "output_type": "stream",
          "name": "stdout",
          "text": [
            "Общее по всем вагонам количество подходящих условию операций включения составило 501850\n"
          ]
        }
      ],
      "source": [
        "df_includes = get_includes_df(all_includes_by_vags)"
      ]
    },
    {
      "cell_type": "code",
      "execution_count": 23,
      "metadata": {
        "id": "uqwGt1TJv1nb"
      },
      "outputs": [],
      "source": [
        "df_includes.to_csv('/content/drive/MyDrive/ColabNotebooks/Hakaton/clear_data.csv')"
      ]
    },
    {
      "cell_type": "code",
      "source": [
        "#\n",
        "# Ниже видно, что в исходных данных есть провал.  \n",
        "#  Возможно данные так были выгружены, или по какой-то причине отсутствуют в системе.\n",
        "#\n",
        "#Было\n",
        "data.operation_date.hist(bins=100,)"
      ],
      "metadata": {
        "colab": {
          "base_uri": "https://localhost:8080/",
          "height": 282
        },
        "id": "If-qw2hBu_Hn",
        "outputId": "4ecc8a36-d67b-4764-bcbb-839fc31b6994"
      },
      "execution_count": 26,
      "outputs": [
        {
          "output_type": "execute_result",
          "data": {
            "text/plain": [
              "<matplotlib.axes._subplots.AxesSubplot at 0x7f393c9c7dd0>"
            ]
          },
          "metadata": {},
          "execution_count": 26
        },
        {
          "output_type": "display_data",
          "data": {
            "text/plain": [
              "<Figure size 432x288 with 1 Axes>"
            ],
            "image/png": "[encoded data removed]"
          },
          "metadata": {
            "needs_background": "light"
          }
        }
      ]
    },
    {
      "cell_type": "code",
      "source": [
        "# Стало\n",
        "df_includes.operation_date.hist(bins=100,)"
      ],
      "metadata": {
        "colab": {
          "base_uri": "https://localhost:8080/",
          "height": 282
        },
        "id": "OgX-flbQvHyS",
        "outputId": "6a670902-4a44-40d4-cd8d-07285c2b3b6e"
      },
      "execution_count": 21,
      "outputs": [
        {
          "output_type": "execute_result",
          "data": {
            "text/plain": [
              "<matplotlib.axes._subplots.AxesSubplot at 0x7f393efa4450>"
            ]
          },
          "metadata": {},
          "execution_count": 21
        },
        {
          "output_type": "display_data",
          "data": {
            "text/plain": [
              "<Figure size 432x288 with 1 Axes>"
            ],
            "image/png": "[encoded data removed]"
          },
          "metadata": {
            "needs_background": "light"
          }
        }
      ]
    },
    {
      "cell_type": "markdown",
      "source": [
        "**Справочный блок**"
      ],
      "metadata": {
        "id": "eZYQVpuAHGrP"
      }
    },
    {
      "cell_type": "code",
      "source": [
        "print(f'Размерность датасета: {df_includes.shape}\\n')\n",
        "print(f'Временной диапазон:\\nmin: {df_includes.operation_date.min()}\\nmax: {df_includes.operation_date.max()}\\n')\n",
        "\n",
        "print(f'Уникальных станций: {df_includes.operation_st_id.nunique()}')\n",
        "print(f'Уникальных вагонов: {df_includes.car_number.nunique()}\\n')\n",
        "\n",
        "print(f'Уникальных операций с вагонами: {df_includes.operation_car[df_includes.operation_car.notnull()].nunique()}')\n",
        "print(f\"Уникальных операций с поездами: {df_includes.operation_train[df_includes.operation_train.notnull()].nunique()}\")"
      ],
      "metadata": {
        "id": "ITUhZjrjGn8P",
        "outputId": "7a5d5127-37ad-4653-ae57-c12fdde7a83b",
        "colab": {
          "base_uri": "https://localhost:8080/"
        }
      },
      "execution_count": 89,
      "outputs": [
        {
          "output_type": "stream",
          "name": "stdout",
          "text": [
            "Размерность датасета: (501850, 21)\n",
            "\n",
            "Временной диапазон:\n",
            "min: 2020-07-01 00:40:00\n",
            "max: 2020-07-31 23:00:00\n",
            "\n",
            "Уникальных станций: 666\n",
            "Уникальных вагонов: 299181\n",
            "\n",
            "Уникальных операций с вагонами: 1\n",
            "Уникальных операций с поездами: 4\n"
          ]
        }
      ]
    },
    {
      "cell_type": "code",
      "source": [
        "vag_dict_df=pd.read_csv('/content/drive/MyDrive/ColabNotebooks/Hakaton/VIVSD_ASOUP_NSI_TN_OPER_VAG.csv')\n",
        "poezd_dict_df=pd.read_csv('/content/drive/MyDrive/ColabNotebooks/Hakaton/VIVSD_ASOUP_NSI_TN_OPER_POEZD.csv')"
      ],
      "metadata": {
        "id": "_TfP4gPtGwJ_"
      },
      "execution_count": 90,
      "outputs": []
    },
    {
      "cell_type": "code",
      "source": [
        "print('Уникальных операций с вагонами в датасете:')\n",
        "for i in df_includes.operation_car[df_includes.operation_car.notnull()].value_counts().index:\n",
        "    print(i,vag_dict_df.naimen_oper[vag_dict_df.dor_nsi == i].values)"
      ],
      "metadata": {
        "colab": {
          "base_uri": "https://localhost:8080/"
        },
        "id": "kpr-pQB5g8Zh",
        "outputId": "9c1d7de9-b9cf-4289-d0f7-8781d61c391e"
      },
      "execution_count": 91,
      "outputs": [
        {
          "output_type": "stream",
          "name": "stdout",
          "text": [
            "Уникальных операций с вагонами в датасете:\n",
            "4.0 []\n"
          ]
        }
      ]
    },
    {
      "cell_type": "code",
      "source": [
        "print('Уникальных операций с поездами в датасете:')\n",
        "for i in df_includes.operation_train[df_includes.operation_train.notnull()].value_counts().index:\n",
        "    print(i,poezd_dict_df.mnem_oper[poezd_dict_df.dor_nsi == i].values)"
      ],
      "metadata": {
        "id": "a-UtAe8fG9Xl",
        "outputId": "532c00e1-3cc9-46c5-adaf-587ebd0215b7",
        "colab": {
          "base_uri": "https://localhost:8080/"
        }
      },
      "execution_count": 92,
      "outputs": [
        {
          "output_type": "stream",
          "name": "stdout",
          "text": [
            "Уникальных операций с поездами в датасете:\n",
            "5.0 []\n",
            "71.0 []\n",
            "30.0 []\n",
            "35.0 []\n"
          ]
        }
      ]
    },
    {
      "cell_type": "code",
      "source": [
        "#Переменные st_id и car_num\n",
        "## В этой ячейке задаются переменные st_id - ЕСР станции, car_num - номер вагона.\n",
        "## Задавая значения переменным можно проводить визуальный анализ по определенной станции или вагону.\n",
        "\n",
        "\"\"\"\n",
        "Примеры номеров станций ['operation_st_esr']\n",
        "\"\"\"\n",
        "# st_id = 889505 # 100 ops, 4 cars\n",
        "# st_id = 845009 # 90 ops, 28 cars\n",
        "# st_id = 977000 # 50 ops, 10 cars\n",
        "# st_id = 985906 # 207037 ops, 43702 cars\n",
        "# st_id = 925701 # 37386 ops, 3801 cars\n",
        "# st_id = 926206 # 18489 ops, 363 cars\n",
        "# st_id = 880407\n",
        "# st_id = 967704 # станция с аномальными данными - таможенный пост Морской порт Ванино \n",
        "# st_id = 881804\n",
        "# st_id = 986103 # top-1 by dest # НАХОДКА-ВОСТОЧНАЯ (ЭКСП.) https://www.logistics1520.com/railway/station/98610-nahodka-vostochnaya-eksp/\n",
        "# st_id = 863007 # 5th by destination\n",
        "# st_id = 950101\n",
        "# st_id = 954704\n",
        "st_id = 968707 # Дземги - https://www.logistics1520.com/railway/station/96870-dzemgi/\n",
        "\n",
        "\n",
        "\"\"\"\n",
        "Примеры номеров вагонов ['car_number']\n",
        "\"\"\"\n",
        "# car_num = 55864821 # вагон с максимальным количеством операций 310\n",
        "# car_num = 94033792\n",
        "# car_num = 62324355\n",
        "# car_num = 37843901\n",
        "# car_num = 61810677\n",
        "# car_num = 37812401\n",
        "# car_num = 37695855\n",
        "# car_num = 30849038\n",
        "# car_num = 63852057\n",
        "# car_num = 42051045\n",
        "# car_num = 44591014\n",
        "# car_num = 55864821\n",
        "# car_num = 62236872\n",
        "# car_num = 30860712\n",
        "# car_num = 30870752\n",
        "# car_num = 42051359\n",
        "# car_num = 42780155\n",
        "# car_num = 30061394\n",
        "# car_num = 55952550\n",
        "car_num = 67062638 ## вагон с наглядым графом перехода состояний\n",
        "# car_num = 53447488\n",
        "#car_num = 54643101\n",
        "\n",
        "\"\"\"\n",
        "Примеры номеров поездов ['index_train']\n",
        "\"\"\"\n",
        "train_num = 932300948920002#954704366955406\n",
        "\n",
        "#######################\n",
        "\n",
        "# проверка соответствия st_id и car_num\n",
        "def check_st_car(st_id, car_num):\n",
        "    if df_includes.operation_st_esr[df_includes.car_number == car_num][df_includes.operation_st_esr == st_id].shape[0] == 0:\n",
        "        print(f'Для станции {st_id} нет записей с вагоном {car_num}')\n",
        "        print(f'\\nТоп 10 вагонов по количеству записей для станции:\\n')\n",
        "        print(\n",
        "            pd.DataFrame(\n",
        "                {'Вагон': df_includes.car_number[df_includes.operation_st_esr == st_id].value_counts().index[:10],\n",
        "                 'Строк': df_includes.car_number[df_includes.operation_st_esr == st_id].value_counts().values[:10]}\n",
        "            )\n",
        "\n",
        "        )\n",
        "        print(f'\\nС вагоном {car_num} есть записи на следующих станциях:\\n')\n",
        "        print(\n",
        "            pd.DataFrame(\n",
        "                {'Станция': df_includes.operation_st_esr[df_includes.car_number == car_num].value_counts().index,\n",
        "                 'Строк': df_includes.operation_st_esr[df_includes.car_number == car_num].value_counts().values}\n",
        "            )\n",
        "        )\n",
        "\n",
        "    else:\n",
        "        print(\n",
        "            f'Для станции {st_id} есть \\\n",
        "{df_includes.operation_st_esr[df_includes.car_number == car_num][df_includes.operation_st_esr == st_id].shape[0]} \\\n",
        "строк(а) по вагону {car_num}'\n",
        "        )\n",
        "\n",
        "\n",
        "check_st_car(st_id, car_num)\n",
        "print(f'\\nВагон {car_num} также присутствует в записях со следующими поездами: \\n\\n\\\n",
        "{df_includes.index_train[df_includes.car_number == car_num].value_counts()}')"
      ],
      "metadata": {
        "id": "NwvJJXMpHDZT",
        "outputId": "4969154e-ce1b-4636-c694-1164330fe10c",
        "colab": {
          "base_uri": "https://localhost:8080/"
        }
      },
      "execution_count": 93,
      "outputs": [
        {
          "output_type": "stream",
          "name": "stdout",
          "text": [
            "Для станции 968707 нет записей с вагоном 67062638\n",
            "\n",
            "Топ 10 вагонов по количеству записей для станции:\n",
            "\n",
            "      Вагон  Строк\n",
            "0  51269041      3\n",
            "1  73039448      3\n",
            "2  50816792      3\n",
            "3  57109548      3\n",
            "4  54724364      3\n",
            "5  73347288      3\n",
            "6  54883442      3\n",
            "7  57525149      2\n",
            "8  54884044      2\n",
            "9  51815918      2\n",
            "\n",
            "С вагоном 67062638 есть записи на следующих станциях:\n",
            "\n",
            "Empty DataFrame\n",
            "Columns: [Станция, Строк]\n",
            "Index: []\n",
            "\n",
            "Вагон 67062638 также присутствует в записях со следующими поездами: \n",
            "\n",
            "Series([], Name: index_train, dtype: int64)\n"
          ]
        }
      ]
    },
    {
      "cell_type": "code",
      "source": [
        "def extract_car(car_number):\n",
        "    lst = []\n",
        "    for i,j in enumerate(str(car_number)):\n",
        "        if i == 0 and j == '2':\n",
        "            lst.append('крытый')\n",
        "        elif i == 0 and j == '3':\n",
        "            lst.append('специальный вагон (к примеру, четырехосный думпкар, хоппер-дозатор, транспортер)')\n",
        "        elif i == 0 and j == '4':\n",
        "            lst.append('платформы')\n",
        "        elif i == 0 and j == '5':\n",
        "            lst.append('означает, что вагон отнесен к группе собственных грузовых вагонов и не входит в состав парка ОАО «РЖД»')\n",
        "        elif i == 0 and j == '6':\n",
        "            lst.append('полувагон')\n",
        "        elif i == 0 and j == '7':\n",
        "            lst.append('цистерны')\n",
        "        elif i == 0 and j == '8':\n",
        "            lst.append('изотермические')\n",
        "        elif i == 0 and j == '9':\n",
        "            lst.append('прочие')\n",
        "        elif i == 1 and j == '2':\n",
        "            lst.append('двух осный')\n",
        "        elif i == 1 and j == '4':\n",
        "            lst.append('четырех осный')\n",
        "        elif i == 1 and j == '6':\n",
        "            lst.append('шести осный')\n",
        "        elif i == 1 and j == '8':\n",
        "            lst.append('восьми осный')\n",
        "        elif i == 1 and j == '12':\n",
        "            lst.append('двенадцати осный')\n",
        "        elif i == 1 and j == '16':\n",
        "            lst.append('шестнадцати осный')\n",
        "        elif i == 2 and j == '5':\n",
        "            lst.append('четырехосного хоппера-дозатора типа ЦНИИ-ДВ3М')\n",
        "        elif i == 2 and j == '6':\n",
        "            lst.append('четырехосного хоппера-дозатора типа ЦНИИ-ДВ3М')\n",
        "        elif i == 2 and j == '7':\n",
        "            lst.append('четырехосного хоппера-дозатора типа ЦНИИ-ДВ3М')\n",
        "        elif i == 2 and j == '8':\n",
        "            lst.append('цистерна с объемом котла 75 м3')\n",
        "        elif i == 2 and j == '9':\n",
        "            lst.append('цистерна с объемом котла 85,6 м3')\n",
        "        elif i == 3 and j.isdigit():\n",
        "            lst.append('номер вагона который был присвоен заводом: {}'.format(j))\n",
        "        elif i == 4 and j.isdigit():\n",
        "            lst.append(j)\n",
        "        elif i == 5 and j.isdigit():\n",
        "            lst.append(j)\n",
        "        elif i == 6 and j.isdigit():\n",
        "            lst.append('имеется ручной тормоз или переходная площадка, код: {}'.format(j))\n",
        "        elif i == 7 and j.isdigit():\n",
        "            lst.append('контрольное число вагона: {}'.format(j))\n",
        "        else:\n",
        "            continue\n",
        "            \n",
        "    print(f'Вагон {car_num} был отмечен на следующих станциях:\\n')\n",
        "    for i in df_includes.operation_st_esr[df_includes.car_number == car_num].unique(): print(i)\n",
        "\n",
        "    print(f'\\nВагон {car_num} был отмечен в следующих поездах:\\n')\n",
        "    for i in df_includes.index_train[df_includes.car_number == car_num].unique(): \n",
        "        if np.isnan(i): \n",
        "            continue\n",
        "        else:\n",
        "            print(int(i))\n",
        "    print(f'\\nСвойства:\\n{lst}')"
      ],
      "metadata": {
        "id": "7s5-SLxfHSRc"
      },
      "execution_count": 94,
      "outputs": []
    },
    {
      "cell_type": "code",
      "source": [
        "#Визуализация датасета\n",
        "print(f'Для визуализации используются следующие переменные:\\n\\nst_id \\t= {st_id}\\ncar_num = {car_num}\\n')\n",
        "print(f'В датасете по станции {st_id} имеются записи по:\\n\\n{df_includes.car_number[df_includes.operation_st_esr == st_id].nunique()} вагонам и\\n{df_includes[df_includes.operation_st_esr == st_id].shape[0]} операциям\\n')\n",
        "extract_car(car_num)"
      ],
      "metadata": {
        "id": "DHhdFuILHU7b",
        "outputId": "cb6a4b9c-ef8d-4d39-cb45-df31feceee5b",
        "colab": {
          "base_uri": "https://localhost:8080/"
        }
      },
      "execution_count": 95,
      "outputs": [
        {
          "output_type": "stream",
          "name": "stdout",
          "text": [
            "Для визуализации используются следующие переменные:\n",
            "\n",
            "st_id \t= 968707\n",
            "car_num = 67062638\n",
            "\n",
            "В датасете по станции 968707 имеются записи по:\n",
            "\n",
            "2428 вагонам и\n",
            "2899 операциям\n",
            "\n",
            "Вагон 67062638 был отмечен на следующих станциях:\n",
            "\n",
            "\n",
            "Вагон 67062638 был отмечен в следующих поездах:\n",
            "\n",
            "\n",
            "Свойства:\n",
            "['полувагон', 'номер вагона который был присвоен заводом: 6', '2', '6', 'имеется ручной тормоз или переходная площадка, код: 3', 'контрольное число вагона: 8']\n"
          ]
        }
      ]
    },
    {
      "cell_type": "markdown",
      "source": [
        "**Графики**"
      ],
      "metadata": {
        "id": "qB1BNZ7IHdg1"
      }
    },
    {
      "cell_type": "code",
      "source": [
        "class Graph:\n",
        "\n",
        "    def __init__(self):\n",
        "\n",
        "        self.prev = 0\n",
        "        self.edges = []\n",
        "        self.weighted_edges = []\n",
        "        self.weights = []\n",
        "        self.edge_labels = dict()\n",
        "        self.networkx_graph = nx.DiGraph()\n",
        "\n",
        "    def add_edge(self, edge):\n",
        "        self.edges.append(edge)\n",
        "\n",
        "    def set_edge(self, edge):\n",
        "        self.edges = edge\n",
        "\n",
        "    def write_graph(self, val):\n",
        "        self.add_edge([self.prev, val])\n",
        "        self.prev = val\n",
        "\n",
        "    def count_weights(self):\n",
        "        values_weights = pd.Series(self.edges).value_counts()\n",
        "        df = values_weights.to_frame(name=\"Weight\")\n",
        "        self.edges = df.index\n",
        "        df[\"Edges\"] = df.index\n",
        "        df[\"A\"], df[\"B\"] = df.Edges.str\n",
        "        self.weighted_edges = df.to_numpy()[:, [2, 3, 0]]\n",
        "        self.weights = list(values_weights)\n",
        "\n",
        "    def make_colors(self):\n",
        "        colors = [i / len(self.networkx_graph.nodes) for i in range(len(self.networkx_graph.nodes))]\n",
        "        self.bright_cmap = cm.jet(colors)\n",
        "        cmap = cm.jet(colors)\n",
        "        for i in cmap:\n",
        "            i[3] = i[3] * 0.5\n",
        "        self.cmap = cmap\n",
        "        \n",
        "    def get_edge_labels(self):\n",
        "        for row in self.weighted_edges:\n",
        "            self.edge_labels[tuple(row[[0, 1]])] = row[2]\n",
        "        \n",
        "    def prepare_prop(self):\n",
        "        \n",
        "        self.count_weights()\n",
        "        \n",
        "        #prepare networkxGraph\n",
        "        self.networkx_graph.add_edges_from(self.edges)\n",
        "        \n",
        "        self.make_colors()\n",
        "        self.get_edge_labels()\n",
        "\n",
        "    def draw_graph(self, figsize=(50, 50), show_weights=True, \\\n",
        "                  width=2, show_weights_labels=True, \\\n",
        "                  node_size=1000, font_size=15, \\\n",
        "                  font_family=\"fantasy\", weightsmark_font_color='red',\\\n",
        "                  weightsmark_font_size = 10, width_count_method = 'log'):\n",
        "        \n",
        "        self.prepare_prop()\n",
        "        #self.cmap='viridis'\n",
        "        \n",
        "        if (show_weights):\n",
        "            width = list(map(lambda x: math.log(x) if width_count_method == 'log' else x, self.weights))\n",
        "        else:\n",
        "            width = width\n",
        "        \n",
        "        \n",
        "        plt.figure(figsize=figsize)\n",
        "        \n",
        "        layout = nx.spring_layout(self.networkx_graph)\n",
        "        \n",
        "        nx.draw_networkx(self.networkx_graph, layout, with_labels=True, \\\n",
        "                         node_color=self.cmap, node_size=node_size, \\\n",
        "                         font_size=font_size, \\\n",
        "                         font_family=font_family, width=width)\n",
        "        \n",
        "        if (show_weights_labels):\n",
        "            nx.draw_networkx_edge_labels(self.networkx_graph, pos=layout, \\\n",
        "                                         edge_labels=self.edge_labels, \\\n",
        "                                         font_color=weightsmark_font_color, \\\n",
        "                                         font_size = weightsmark_font_size)\n",
        "        \n",
        "        #plt.tight_layout()\n",
        "        #plt.show()\n",
        "        plt.savefig(\"Graph.png\", format=\"PNG\")"
      ],
      "metadata": {
        "id": "cFiO1uC_Hzjp"
      },
      "execution_count": 98,
      "outputs": []
    },
    {
      "cell_type": "code",
      "source": [
        "#Построить рандомный вагон\n",
        "#!pip install networkx\n",
        "#import networkx as nx\n",
        "#from matplotlib import cm\n",
        "#import matplotlib.pyplot as plt\n",
        "#import graphviz\n",
        "#import math\n",
        "\n",
        "random_graph_object = Graph()\n",
        "svag_df['operation_train'].apply(lambda x: random_graph_object.write_graph(x))\n",
        "random_graph_object.draw_graph(figsize=(10, 10), width_count_method=None, node_size=2000)"
      ],
      "metadata": {
        "id": "Oz1gihHUHgTT",
        "outputId": "c87f6848-99de-4e8e-bb91-b2f79bbb98d4",
        "colab": {
          "base_uri": "https://localhost:8080/",
          "height": 612
        }
      },
      "execution_count": 99,
      "outputs": [
        {
          "output_type": "stream",
          "name": "stderr",
          "text": [
            "/usr/local/lib/python3.7/dist-packages/ipykernel_launcher.py:27: FutureWarning: Columnar iteration over characters will be deprecated in future releases.\n"
          ]
        },
        {
          "output_type": "display_data",
          "data": {
            "text/plain": [
              "<Figure size 720x720 with 1 Axes>"
            ],
            "image/png": "[encoded data removed]"
          },
          "metadata": {}
        }
      ]
    },
    {
      "cell_type": "code",
      "source": [
        "def get_sample_df(data, col):\n",
        "    return data[data[col] == data[col].sample().values[0]]"
      ],
      "metadata": {
        "id": "0_BAYLyoIA2M"
      },
      "execution_count": 100,
      "outputs": []
    },
    {
      "cell_type": "code",
      "source": [
        "stan_df=get_sample_df(df_includes, 'destination_esr')\n",
        "stan_df['operation_train']=stan_df['operation_train'].apply(vag_dict.to_dict()['mnem_oper'].get)"
      ],
      "metadata": {
        "id": "kXbldxZlIGDK",
        "outputId": "2b763bcd-6e1a-4490-e0df-735798ec1e76",
        "colab": {
          "base_uri": "https://localhost:8080/"
        }
      },
      "execution_count": 101,
      "outputs": [
        {
          "output_type": "stream",
          "name": "stderr",
          "text": [
            "/usr/local/lib/python3.7/dist-packages/ipykernel_launcher.py:2: SettingWithCopyWarning: \n",
            "A value is trying to be set on a copy of a slice from a DataFrame.\n",
            "Try using .loc[row_indexer,col_indexer] = value instead\n",
            "\n",
            "See the caveats in the documentation: https://pandas.pydata.org/pandas-docs/stable/user_guide/indexing.html#returning-a-view-versus-a-copy\n",
            "  \n"
          ]
        }
      ]
    },
    {
      "cell_type": "code",
      "source": [
        "graph_object = Graph()\n",
        "stan_df['operation_train'].apply(lambda x: graph_object.write_graph(x))\n",
        "graph_object.draw_graph(figsize=(50, 50), node_size=10000)"
      ],
      "metadata": {
        "id": "dcPLQVVvIMiV",
        "outputId": "3cd49d2b-f6d1-4317-cb2c-9c6ba8132480",
        "colab": {
          "base_uri": "https://localhost:8080/",
          "height": 1000
        }
      },
      "execution_count": 103,
      "outputs": [
        {
          "output_type": "stream",
          "name": "stderr",
          "text": [
            "/usr/local/lib/python3.7/dist-packages/ipykernel_launcher.py:27: FutureWarning: Columnar iteration over characters will be deprecated in future releases.\n",
            "/usr/local/lib/python3.7/dist-packages/matplotlib/backends/backend_agg.py:214: RuntimeWarning: Glyph 1055 missing from current font.\n",
            "  font.set_text(s, 0.0, flags=flags)\n",
            "/usr/local/lib/python3.7/dist-packages/matplotlib/backends/backend_agg.py:214: RuntimeWarning: Glyph 1056 missing from current font.\n",
            "  font.set_text(s, 0.0, flags=flags)\n",
            "/usr/local/lib/python3.7/dist-packages/matplotlib/backends/backend_agg.py:214: RuntimeWarning: Glyph 1052 missing from current font.\n",
            "  font.set_text(s, 0.0, flags=flags)\n",
            "/usr/local/lib/python3.7/dist-packages/matplotlib/backends/backend_agg.py:214: RuntimeWarning: Glyph 1044 missing from current font.\n",
            "  font.set_text(s, 0.0, flags=flags)\n",
            "/usr/local/lib/python3.7/dist-packages/matplotlib/backends/backend_agg.py:183: RuntimeWarning: Glyph 1055 missing from current font.\n",
            "  font.set_text(s, 0, flags=flags)\n",
            "/usr/local/lib/python3.7/dist-packages/matplotlib/backends/backend_agg.py:183: RuntimeWarning: Glyph 1056 missing from current font.\n",
            "  font.set_text(s, 0, flags=flags)\n",
            "/usr/local/lib/python3.7/dist-packages/matplotlib/backends/backend_agg.py:183: RuntimeWarning: Glyph 1052 missing from current font.\n",
            "  font.set_text(s, 0, flags=flags)\n",
            "/usr/local/lib/python3.7/dist-packages/matplotlib/backends/backend_agg.py:183: RuntimeWarning: Glyph 1044 missing from current font.\n",
            "  font.set_text(s, 0, flags=flags)\n",
            "/usr/local/lib/python3.7/dist-packages/matplotlib/backends/backend_agg.py:214: RuntimeWarning: Glyph 1053 missing from current font.\n",
            "  font.set_text(s, 0.0, flags=flags)\n",
            "/usr/local/lib/python3.7/dist-packages/matplotlib/backends/backend_agg.py:214: RuntimeWarning: Glyph 1054 missing from current font.\n",
            "  font.set_text(s, 0.0, flags=flags)\n",
            "/usr/local/lib/python3.7/dist-packages/matplotlib/backends/backend_agg.py:214: RuntimeWarning: Glyph 1042 missing from current font.\n",
            "  font.set_text(s, 0.0, flags=flags)\n",
            "/usr/local/lib/python3.7/dist-packages/matplotlib/backends/backend_agg.py:183: RuntimeWarning: Glyph 1053 missing from current font.\n",
            "  font.set_text(s, 0, flags=flags)\n",
            "/usr/local/lib/python3.7/dist-packages/matplotlib/backends/backend_agg.py:183: RuntimeWarning: Glyph 1054 missing from current font.\n",
            "  font.set_text(s, 0, flags=flags)\n",
            "/usr/local/lib/python3.7/dist-packages/matplotlib/backends/backend_agg.py:183: RuntimeWarning: Glyph 1042 missing from current font.\n",
            "  font.set_text(s, 0, flags=flags)\n"
          ]
        },
        {
          "output_type": "display_data",
          "data": {
            "text/plain": [
              "<Figure size 3600x3600 with 1 Axes>"
            ],
            "image/png": "[encoded data removed]"
          },
          "metadata": {}
        }
      ]
    },
    {
      "cell_type": "code",
      "source": [
        "  graph_object.networkx_graph"
      ],
      "metadata": {
        "id": "3Iweauo9Ia74",
        "outputId": "f5f23b34-cd0d-49af-fcfa-a6b25bb159da",
        "colab": {
          "base_uri": "https://localhost:8080/"
        }
      },
      "execution_count": 104,
      "outputs": [
        {
          "output_type": "execute_result",
          "data": {
            "text/plain": [
              "<networkx.classes.digraph.DiGraph at 0x7f38cf51ce90>"
            ]
          },
          "metadata": {},
          "execution_count": 104
        }
      ]
    },
    {
      "cell_type": "code",
      "source": [
        "d=stan_df['operation_train'].apply(vag_dict.to_dict()['mnem_oper'].get)"
      ],
      "metadata": {
        "id": "1keqNAPBIdwT"
      },
      "execution_count": 105,
      "outputs": []
    },
    {
      "cell_type": "code",
      "source": [
        "d"
      ],
      "metadata": {
        "id": "1wj1-lwIIfRb",
        "outputId": "320d105a-3b3e-402e-b038-362e2e3f5818",
        "colab": {
          "base_uri": "https://localhost:8080/"
        }
      },
      "execution_count": 106,
      "outputs": [
        {
          "output_type": "execute_result",
          "data": {
            "text/plain": [
              "0    None\n",
              "0    None\n",
              "0    None\n",
              "0    None\n",
              "0    None\n",
              "     ... \n",
              "0    None\n",
              "0    None\n",
              "0    None\n",
              "0    None\n",
              "0    None\n",
              "Name: operation_train, Length: 398, dtype: object"
            ]
          },
          "metadata": {},
          "execution_count": 106
        }
      ]
    },
    {
      "cell_type": "markdown",
      "source": [
        ""
      ],
      "metadata": {
        "id": "gqvZKKmnkkC1"
      }
    },
    {
      "cell_type": "markdown",
      "source": [
        ""
      ],
      "metadata": {
        "id": "8p7ZWh8eHfOV"
      }
    }
  ],
  "metadata": {
    "kernelspec": {
      "display_name": "Python 3 (ipykernel)",
      "language": "python",
      "name": "python3"
    },
    "language_info": {
      "codemirror_mode": {
        "name": "ipython",
        "version": 3
      },
      "file_extension": ".py",
      "mimetype": "text/x-python",
      "name": "python",
      "nbconvert_exporter": "python",
      "pygments_lexer": "ipython3",
      "version": "3.9.12"
    },
    "colab": {
      "name": "Clear_data.ipynb",
      "provenance": [],
      "collapsed_sections": []
    },
    "widgets": {
      "application/vnd.jupyter.widget-state+json": {
        "ff7e967480ef4290a1ec267051f13c6d": {
          "model_module": "@jupyter-widgets/controls",
          "model_name": "HBoxModel",
          "model_module_version": "1.5.0",
          "state": {
            "_dom_classes": [],
            "_model_module": "@jupyter-widgets/controls",
            "_model_module_version": "1.5.0",
            "_model_name": "HBoxModel",
            "_view_count": null,
            "_view_module": "@jupyter-widgets/controls",
            "_view_module_version": "1.5.0",
            "_view_name": "HBoxView",
            "box_style": "",
            "children": [
              "IPY_MODEL_9a0ca2ff93f3480983c8a09f3871bf28",
              "IPY_MODEL_11ebb8a5be374040b88d81096a5f1d50",
              "IPY_MODEL_c632defddde946d0b19cdc185ee86964"
            ],
            "layout": "IPY_MODEL_93b38482b2aa45b6b2b6043dc1724b93"
          }
        },
        "9a0ca2ff93f3480983c8a09f3871bf28": {
          "model_module": "@jupyter-widgets/controls",
          "model_name": "HTMLModel",
          "model_module_version": "1.5.0",
          "state": {
            "_dom_classes": [],
            "_model_module": "@jupyter-widgets/controls",
            "_model_module_version": "1.5.0",
            "_model_name": "HTMLModel",
            "_view_count": null,
            "_view_module": "@jupyter-widgets/controls",
            "_view_module_version": "1.5.0",
            "_view_name": "HTMLView",
            "description": "",
            "description_tooltip": null,
            "layout": "IPY_MODEL_83dd18959aec433c8b3081b591ae8d1e",
            "placeholder": "​",
            "style": "IPY_MODEL_8a8e01e2fe884f8898e0946c01e9fc9b",
            "value": "100%"
          }
        },
        "11ebb8a5be374040b88d81096a5f1d50": {
          "model_module": "@jupyter-widgets/controls",
          "model_name": "FloatProgressModel",
          "model_module_version": "1.5.0",
          "state": {
            "_dom_classes": [],
            "_model_module": "@jupyter-widgets/controls",
            "_model_module_version": "1.5.0",
            "_model_name": "FloatProgressModel",
            "_view_count": null,
            "_view_module": "@jupyter-widgets/controls",
            "_view_module_version": "1.5.0",
            "_view_name": "ProgressView",
            "bar_style": "success",
            "description": "",
            "description_tooltip": null,
            "layout": "IPY_MODEL_34aa6d3b72084d62a77bb0c267686354",
            "max": 441248,
            "min": 0,
            "orientation": "horizontal",
            "style": "IPY_MODEL_400b590ac7ad4ad089b643bcc773a596",
            "value": 441248
          }
        },
        "c632defddde946d0b19cdc185ee86964": {
          "model_module": "@jupyter-widgets/controls",
          "model_name": "HTMLModel",
          "model_module_version": "1.5.0",
          "state": {
            "_dom_classes": [],
            "_model_module": "@jupyter-widgets/controls",
            "_model_module_version": "1.5.0",
            "_model_name": "HTMLModel",
            "_view_count": null,
            "_view_module": "@jupyter-widgets/controls",
            "_view_module_version": "1.5.0",
            "_view_name": "HTMLView",
            "description": "",
            "description_tooltip": null,
            "layout": "IPY_MODEL_2606b4d916bc4933b81acc267baa39e1",
            "placeholder": "​",
            "style": "IPY_MODEL_47f68d3de25644059368127d8a0fcf3b",
            "value": " 441248/441248 [1:01:30&lt;00:00, 118.24it/s]"
          }
        },
        "93b38482b2aa45b6b2b6043dc1724b93": {
          "model_module": "@jupyter-widgets/base",
          "model_name": "LayoutModel",
          "model_module_version": "1.2.0",
          "state": {
            "_model_module": "@jupyter-widgets/base",
            "_model_module_version": "1.2.0",
            "_model_name": "LayoutModel",
            "_view_count": null,
            "_view_module": "@jupyter-widgets/base",
            "_view_module_version": "1.2.0",
            "_view_name": "LayoutView",
            "align_content": null,
            "align_items": null,
            "align_self": null,
            "border": null,
            "bottom": null,
            "display": null,
            "flex": null,
            "flex_flow": null,
            "grid_area": null,
            "grid_auto_columns": null,
            "grid_auto_flow": null,
            "grid_auto_rows": null,
            "grid_column": null,
            "grid_gap": null,
            "grid_row": null,
            "grid_template_areas": null,
            "grid_template_columns": null,
            "grid_template_rows": null,
            "height": null,
            "justify_content": null,
            "justify_items": null,
            "left": null,
            "margin": null,
            "max_height": null,
            "max_width": null,
            "min_height": null,
            "min_width": null,
            "object_fit": null,
            "object_position": null,
            "order": null,
            "overflow": null,
            "overflow_x": null,
            "overflow_y": null,
            "padding": null,
            "right": null,
            "top": null,
            "visibility": null,
            "width": null
          }
        },
        "83dd18959aec433c8b3081b591ae8d1e": {
          "model_module": "@jupyter-widgets/base",
          "model_name": "LayoutModel",
          "model_module_version": "1.2.0",
          "state": {
            "_model_module": "@jupyter-widgets/base",
            "_model_module_version": "1.2.0",
            "_model_name": "LayoutModel",
            "_view_count": null,
            "_view_module": "@jupyter-widgets/base",
            "_view_module_version": "1.2.0",
            "_view_name": "LayoutView",
            "align_content": null,
            "align_items": null,
            "align_self": null,
            "border": null,
            "bottom": null,
            "display": null,
            "flex": null,
            "flex_flow": null,
            "grid_area": null,
            "grid_auto_columns": null,
            "grid_auto_flow": null,
            "grid_auto_rows": null,
            "grid_column": null,
            "grid_gap": null,
            "grid_row": null,
            "grid_template_areas": null,
            "grid_template_columns": null,
            "grid_template_rows": null,
            "height": null,
            "justify_content": null,
            "justify_items": null,
            "left": null,
            "margin": null,
            "max_height": null,
            "max_width": null,
            "min_height": null,
            "min_width": null,
            "object_fit": null,
            "object_position": null,
            "order": null,
            "overflow": null,
            "overflow_x": null,
            "overflow_y": null,
            "padding": null,
            "right": null,
            "top": null,
            "visibility": null,
            "width": null
          }
        },
        "8a8e01e2fe884f8898e0946c01e9fc9b": {
          "model_module": "@jupyter-widgets/controls",
          "model_name": "DescriptionStyleModel",
          "model_module_version": "1.5.0",
          "state": {
            "_model_module": "@jupyter-widgets/controls",
            "_model_module_version": "1.5.0",
            "_model_name": "DescriptionStyleModel",
            "_view_count": null,
            "_view_module": "@jupyter-widgets/base",
            "_view_module_version": "1.2.0",
            "_view_name": "StyleView",
            "description_width": ""
          }
        },
        "34aa6d3b72084d62a77bb0c267686354": {
          "model_module": "@jupyter-widgets/base",
          "model_name": "LayoutModel",
          "model_module_version": "1.2.0",
          "state": {
            "_model_module": "@jupyter-widgets/base",
            "_model_module_version": "1.2.0",
            "_model_name": "LayoutModel",
            "_view_count": null,
            "_view_module": "@jupyter-widgets/base",
            "_view_module_version": "1.2.0",
            "_view_name": "LayoutView",
            "align_content": null,
            "align_items": null,
            "align_self": null,
            "border": null,
            "bottom": null,
            "display": null,
            "flex": null,
            "flex_flow": null,
            "grid_area": null,
            "grid_auto_columns": null,
            "grid_auto_flow": null,
            "grid_auto_rows": null,
            "grid_column": null,
            "grid_gap": null,
            "grid_row": null,
            "grid_template_areas": null,
            "grid_template_columns": null,
            "grid_template_rows": null,
            "height": null,
            "justify_content": null,
            "justify_items": null,
            "left": null,
            "margin": null,
            "max_height": null,
            "max_width": null,
            "min_height": null,
            "min_width": null,
            "object_fit": null,
            "object_position": null,
            "order": null,
            "overflow": null,
            "overflow_x": null,
            "overflow_y": null,
            "padding": null,
            "right": null,
            "top": null,
            "visibility": null,
            "width": null
          }
        },
        "400b590ac7ad4ad089b643bcc773a596": {
          "model_module": "@jupyter-widgets/controls",
          "model_name": "ProgressStyleModel",
          "model_module_version": "1.5.0",
          "state": {
            "_model_module": "@jupyter-widgets/controls",
            "_model_module_version": "1.5.0",
            "_model_name": "ProgressStyleModel",
            "_view_count": null,
            "_view_module": "@jupyter-widgets/base",
            "_view_module_version": "1.2.0",
            "_view_name": "StyleView",
            "bar_color": null,
            "description_width": ""
          }
        },
        "2606b4d916bc4933b81acc267baa39e1": {
          "model_module": "@jupyter-widgets/base",
          "model_name": "LayoutModel",
          "model_module_version": "1.2.0",
          "state": {
            "_model_module": "@jupyter-widgets/base",
            "_model_module_version": "1.2.0",
            "_model_name": "LayoutModel",
            "_view_count": null,
            "_view_module": "@jupyter-widgets/base",
            "_view_module_version": "1.2.0",
            "_view_name": "LayoutView",
            "align_content": null,
            "align_items": null,
            "align_self": null,
            "border": null,
            "bottom": null,
            "display": null,
            "flex": null,
            "flex_flow": null,
            "grid_area": null,
            "grid_auto_columns": null,
            "grid_auto_flow": null,
            "grid_auto_rows": null,
            "grid_column": null,
            "grid_gap": null,
            "grid_row": null,
            "grid_template_areas": null,
            "grid_template_columns": null,
            "grid_template_rows": null,
            "height": null,
            "justify_content": null,
            "justify_items": null,
            "left": null,
            "margin": null,
            "max_height": null,
            "max_width": null,
            "min_height": null,
            "min_width": null,
            "object_fit": null,
            "object_position": null,
            "order": null,
            "overflow": null,
            "overflow_x": null,
            "overflow_y": null,
            "padding": null,
            "right": null,
            "top": null,
            "visibility": null,
            "width": null
          }
        },
        "47f68d3de25644059368127d8a0fcf3b": {
          "model_module": "@jupyter-widgets/controls",
          "model_name": "DescriptionStyleModel",
          "model_module_version": "1.5.0",
          "state": {
            "_model_module": "@jupyter-widgets/controls",
            "_model_module_version": "1.5.0",
            "_model_name": "DescriptionStyleModel",
            "_view_count": null,
            "_view_module": "@jupyter-widgets/base",
            "_view_module_version": "1.2.0",
            "_view_name": "StyleView",
            "description_width": ""
          }
        },
        "27cf7e3323324461902263fcc1e3c687": {
          "model_module": "@jupyter-widgets/controls",
          "model_name": "HBoxModel",
          "model_module_version": "1.5.0",
          "state": {
            "_dom_classes": [],
            "_model_module": "@jupyter-widgets/controls",
            "_model_module_version": "1.5.0",
            "_model_name": "HBoxModel",
            "_view_count": null,
            "_view_module": "@jupyter-widgets/controls",
            "_view_module_version": "1.5.0",
            "_view_name": "HBoxView",
            "box_style": "",
            "children": [
              "IPY_MODEL_f755461e6c8a44d08cfdb3a456667fa5",
              "IPY_MODEL_6fa260f758c64e90a4e058b7f3aafb98",
              "IPY_MODEL_0f6fade786254841b991173d10636683"
            ],
            "layout": "IPY_MODEL_aaf04d11991f43f6b748c65e0e315100"
          }
        },
        "f755461e6c8a44d08cfdb3a456667fa5": {
          "model_module": "@jupyter-widgets/controls",
          "model_name": "HTMLModel",
          "model_module_version": "1.5.0",
          "state": {
            "_dom_classes": [],
            "_model_module": "@jupyter-widgets/controls",
            "_model_module_version": "1.5.0",
            "_model_name": "HTMLModel",
            "_view_count": null,
            "_view_module": "@jupyter-widgets/controls",
            "_view_module_version": "1.5.0",
            "_view_name": "HTMLView",
            "description": "",
            "description_tooltip": null,
            "layout": "IPY_MODEL_790548bf0d884df1a5cfa80b4f09680e",
            "placeholder": "​",
            "style": "IPY_MODEL_e8cab76ad516427390caf4cc4316ca82",
            "value": "100%"
          }
        },
        "6fa260f758c64e90a4e058b7f3aafb98": {
          "model_module": "@jupyter-widgets/controls",
          "model_name": "FloatProgressModel",
          "model_module_version": "1.5.0",
          "state": {
            "_dom_classes": [],
            "_model_module": "@jupyter-widgets/controls",
            "_model_module_version": "1.5.0",
            "_model_name": "FloatProgressModel",
            "_view_count": null,
            "_view_module": "@jupyter-widgets/controls",
            "_view_module_version": "1.5.0",
            "_view_name": "ProgressView",
            "bar_style": "success",
            "description": "",
            "description_tooltip": null,
            "layout": "IPY_MODEL_53fbdb1725f9456da788315886830ba4",
            "max": 441248,
            "min": 0,
            "orientation": "horizontal",
            "style": "IPY_MODEL_050e6ac82d4c47839e4296ab507e3402",
            "value": 441248
          }
        },
        "0f6fade786254841b991173d10636683": {
          "model_module": "@jupyter-widgets/controls",
          "model_name": "HTMLModel",
          "model_module_version": "1.5.0",
          "state": {
            "_dom_classes": [],
            "_model_module": "@jupyter-widgets/controls",
            "_model_module_version": "1.5.0",
            "_model_name": "HTMLModel",
            "_view_count": null,
            "_view_module": "@jupyter-widgets/controls",
            "_view_module_version": "1.5.0",
            "_view_name": "HTMLView",
            "description": "",
            "description_tooltip": null,
            "layout": "IPY_MODEL_b7eb66477ac74dfb800ae04ff857e5e9",
            "placeholder": "​",
            "style": "IPY_MODEL_df09f42df6274ac191a51c30d52fdf5e",
            "value": " 441248/441248 [48:01&lt;00:00, 441.03it/s]"
          }
        },
        "aaf04d11991f43f6b748c65e0e315100": {
          "model_module": "@jupyter-widgets/base",
          "model_name": "LayoutModel",
          "model_module_version": "1.2.0",
          "state": {
            "_model_module": "@jupyter-widgets/base",
            "_model_module_version": "1.2.0",
            "_model_name": "LayoutModel",
            "_view_count": null,
            "_view_module": "@jupyter-widgets/base",
            "_view_module_version": "1.2.0",
            "_view_name": "LayoutView",
            "align_content": null,
            "align_items": null,
            "align_self": null,
            "border": null,
            "bottom": null,
            "display": null,
            "flex": null,
            "flex_flow": null,
            "grid_area": null,
            "grid_auto_columns": null,
            "grid_auto_flow": null,
            "grid_auto_rows": null,
            "grid_column": null,
            "grid_gap": null,
            "grid_row": null,
            "grid_template_areas": null,
            "grid_template_columns": null,
            "grid_template_rows": null,
            "height": null,
            "justify_content": null,
            "justify_items": null,
            "left": null,
            "margin": null,
            "max_height": null,
            "max_width": null,
            "min_height": null,
            "min_width": null,
            "object_fit": null,
            "object_position": null,
            "order": null,
            "overflow": null,
            "overflow_x": null,
            "overflow_y": null,
            "padding": null,
            "right": null,
            "top": null,
            "visibility": null,
            "width": null
          }
        },
        "790548bf0d884df1a5cfa80b4f09680e": {
          "model_module": "@jupyter-widgets/base",
          "model_name": "LayoutModel",
          "model_module_version": "1.2.0",
          "state": {
            "_model_module": "@jupyter-widgets/base",
            "_model_module_version": "1.2.0",
            "_model_name": "LayoutModel",
            "_view_count": null,
            "_view_module": "@jupyter-widgets/base",
            "_view_module_version": "1.2.0",
            "_view_name": "LayoutView",
            "align_content": null,
            "align_items": null,
            "align_self": null,
            "border": null,
            "bottom": null,
            "display": null,
            "flex": null,
            "flex_flow": null,
            "grid_area": null,
            "grid_auto_columns": null,
            "grid_auto_flow": null,
            "grid_auto_rows": null,
            "grid_column": null,
            "grid_gap": null,
            "grid_row": null,
            "grid_template_areas": null,
            "grid_template_columns": null,
            "grid_template_rows": null,
            "height": null,
            "justify_content": null,
            "justify_items": null,
            "left": null,
            "margin": null,
            "max_height": null,
            "max_width": null,
            "min_height": null,
            "min_width": null,
            "object_fit": null,
            "object_position": null,
            "order": null,
            "overflow": null,
            "overflow_x": null,
            "overflow_y": null,
            "padding": null,
            "right": null,
            "top": null,
            "visibility": null,
            "width": null
          }
        },
        "e8cab76ad516427390caf4cc4316ca82": {
          "model_module": "@jupyter-widgets/controls",
          "model_name": "DescriptionStyleModel",
          "model_module_version": "1.5.0",
          "state": {
            "_model_module": "@jupyter-widgets/controls",
            "_model_module_version": "1.5.0",
            "_model_name": "DescriptionStyleModel",
            "_view_count": null,
            "_view_module": "@jupyter-widgets/base",
            "_view_module_version": "1.2.0",
            "_view_name": "StyleView",
            "description_width": ""
          }
        },
        "53fbdb1725f9456da788315886830ba4": {
          "model_module": "@jupyter-widgets/base",
          "model_name": "LayoutModel",
          "model_module_version": "1.2.0",
          "state": {
            "_model_module": "@jupyter-widgets/base",
            "_model_module_version": "1.2.0",
            "_model_name": "LayoutModel",
            "_view_count": null,
            "_view_module": "@jupyter-widgets/base",
            "_view_module_version": "1.2.0",
            "_view_name": "LayoutView",
            "align_content": null,
            "align_items": null,
            "align_self": null,
            "border": null,
            "bottom": null,
            "display": null,
            "flex": null,
            "flex_flow": null,
            "grid_area": null,
            "grid_auto_columns": null,
            "grid_auto_flow": null,
            "grid_auto_rows": null,
            "grid_column": null,
            "grid_gap": null,
            "grid_row": null,
            "grid_template_areas": null,
            "grid_template_columns": null,
            "grid_template_rows": null,
            "height": null,
            "justify_content": null,
            "justify_items": null,
            "left": null,
            "margin": null,
            "max_height": null,
            "max_width": null,
            "min_height": null,
            "min_width": null,
            "object_fit": null,
            "object_position": null,
            "order": null,
            "overflow": null,
            "overflow_x": null,
            "overflow_y": null,
            "padding": null,
            "right": null,
            "top": null,
            "visibility": null,
            "width": null
          }
        },
        "050e6ac82d4c47839e4296ab507e3402": {
          "model_module": "@jupyter-widgets/controls",
          "model_name": "ProgressStyleModel",
          "model_module_version": "1.5.0",
          "state": {
            "_model_module": "@jupyter-widgets/controls",
            "_model_module_version": "1.5.0",
            "_model_name": "ProgressStyleModel",
            "_view_count": null,
            "_view_module": "@jupyter-widgets/base",
            "_view_module_version": "1.2.0",
            "_view_name": "StyleView",
            "bar_color": null,
            "description_width": ""
          }
        },
        "b7eb66477ac74dfb800ae04ff857e5e9": {
          "model_module": "@jupyter-widgets/base",
          "model_name": "LayoutModel",
          "model_module_version": "1.2.0",
          "state": {
            "_model_module": "@jupyter-widgets/base",
            "_model_module_version": "1.2.0",
            "_model_name": "LayoutModel",
            "_view_count": null,
            "_view_module": "@jupyter-widgets/base",
            "_view_module_version": "1.2.0",
            "_view_name": "LayoutView",
            "align_content": null,
            "align_items": null,
            "align_self": null,
            "border": null,
            "bottom": null,
            "display": null,
            "flex": null,
            "flex_flow": null,
            "grid_area": null,
            "grid_auto_columns": null,
            "grid_auto_flow": null,
            "grid_auto_rows": null,
            "grid_column": null,
            "grid_gap": null,
            "grid_row": null,
            "grid_template_areas": null,
            "grid_template_columns": null,
            "grid_template_rows": null,
            "height": null,
            "justify_content": null,
            "justify_items": null,
            "left": null,
            "margin": null,
            "max_height": null,
            "max_width": null,
            "min_height": null,
            "min_width": null,
            "object_fit": null,
            "object_position": null,
            "order": null,
            "overflow": null,
            "overflow_x": null,
            "overflow_y": null,
            "padding": null,
            "right": null,
            "top": null,
            "visibility": null,
            "width": null
          }
        },
        "df09f42df6274ac191a51c30d52fdf5e": {
          "model_module": "@jupyter-widgets/controls",
          "model_name": "DescriptionStyleModel",
          "model_module_version": "1.5.0",
          "state": {
            "_model_module": "@jupyter-widgets/controls",
            "_model_module_version": "1.5.0",
            "_model_name": "DescriptionStyleModel",
            "_view_count": null,
            "_view_module": "@jupyter-widgets/base",
            "_view_module_version": "1.2.0",
            "_view_name": "StyleView",
            "description_width": ""
          }
        }
      }
    }
  },
  "nbformat": 4,
  "nbformat_minor": 0
}